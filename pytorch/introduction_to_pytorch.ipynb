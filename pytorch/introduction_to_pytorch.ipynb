{
  "nbformat": 4,
  "nbformat_minor": 0,
  "metadata": {
    "colab": {
      "name": "introduction_to_pytorch.ipynb",
      "provenance": [],
      "collapsed_sections": []
    },
    "kernelspec": {
      "name": "python3",
      "display_name": "Python 3"
    },
    "language_info": {
      "name": "python"
    },
    "widgets": {
      "application/vnd.jupyter.widget-state+json": {
        "1a2cf66b39384c1980d6e01ab6becccb": {
          "model_module": "@jupyter-widgets/controls",
          "model_name": "HBoxModel",
          "model_module_version": "1.5.0",
          "state": {
            "_view_name": "HBoxView",
            "_dom_classes": [],
            "_model_name": "HBoxModel",
            "_view_module": "@jupyter-widgets/controls",
            "_model_module_version": "1.5.0",
            "_view_count": null,
            "_view_module_version": "1.5.0",
            "box_style": "",
            "layout": "IPY_MODEL_28aff40b42cc432c8d5c1123c0ea50cd",
            "_model_module": "@jupyter-widgets/controls",
            "children": [
              "IPY_MODEL_f332f06d95ea40a497c1c5eaace42384",
              "IPY_MODEL_dcc4b9cc55254b689f9f4985618891e9",
              "IPY_MODEL_174fd32522ee437f95fafab1c7495b6e"
            ]
          }
        },
        "28aff40b42cc432c8d5c1123c0ea50cd": {
          "model_module": "@jupyter-widgets/base",
          "model_name": "LayoutModel",
          "model_module_version": "1.2.0",
          "state": {
            "_view_name": "LayoutView",
            "grid_template_rows": null,
            "right": null,
            "justify_content": null,
            "_view_module": "@jupyter-widgets/base",
            "overflow": null,
            "_model_module_version": "1.2.0",
            "_view_count": null,
            "flex_flow": null,
            "width": null,
            "min_width": null,
            "border": null,
            "align_items": null,
            "bottom": null,
            "_model_module": "@jupyter-widgets/base",
            "top": null,
            "grid_column": null,
            "overflow_y": null,
            "overflow_x": null,
            "grid_auto_flow": null,
            "grid_area": null,
            "grid_template_columns": null,
            "flex": null,
            "_model_name": "LayoutModel",
            "justify_items": null,
            "grid_row": null,
            "max_height": null,
            "align_content": null,
            "visibility": null,
            "align_self": null,
            "height": null,
            "min_height": null,
            "padding": null,
            "grid_auto_rows": null,
            "grid_gap": null,
            "max_width": null,
            "order": null,
            "_view_module_version": "1.2.0",
            "grid_template_areas": null,
            "object_position": null,
            "object_fit": null,
            "grid_auto_columns": null,
            "margin": null,
            "display": null,
            "left": null
          }
        },
        "f332f06d95ea40a497c1c5eaace42384": {
          "model_module": "@jupyter-widgets/controls",
          "model_name": "HTMLModel",
          "model_module_version": "1.5.0",
          "state": {
            "_view_name": "HTMLView",
            "style": "IPY_MODEL_c27238688c65413cbf39b50cfcf9a09d",
            "_dom_classes": [],
            "description": "",
            "_model_name": "HTMLModel",
            "placeholder": "​",
            "_view_module": "@jupyter-widgets/controls",
            "_model_module_version": "1.5.0",
            "value": "100%",
            "_view_count": null,
            "_view_module_version": "1.5.0",
            "description_tooltip": null,
            "_model_module": "@jupyter-widgets/controls",
            "layout": "IPY_MODEL_165a1c6e41624c70b53aeb4babf133a3"
          }
        },
        "dcc4b9cc55254b689f9f4985618891e9": {
          "model_module": "@jupyter-widgets/controls",
          "model_name": "FloatProgressModel",
          "model_module_version": "1.5.0",
          "state": {
            "_view_name": "ProgressView",
            "style": "IPY_MODEL_43978015583740ddbcc544e6a8a04074",
            "_dom_classes": [],
            "description": "",
            "_model_name": "FloatProgressModel",
            "bar_style": "success",
            "max": 553433881,
            "_view_module": "@jupyter-widgets/controls",
            "_model_module_version": "1.5.0",
            "value": 553433881,
            "_view_count": null,
            "_view_module_version": "1.5.0",
            "orientation": "horizontal",
            "min": 0,
            "description_tooltip": null,
            "_model_module": "@jupyter-widgets/controls",
            "layout": "IPY_MODEL_9505faa32a024c3681a211901bf2a48a"
          }
        },
        "174fd32522ee437f95fafab1c7495b6e": {
          "model_module": "@jupyter-widgets/controls",
          "model_name": "HTMLModel",
          "model_module_version": "1.5.0",
          "state": {
            "_view_name": "HTMLView",
            "style": "IPY_MODEL_a9484494e53f4814b83b8964179ed98e",
            "_dom_classes": [],
            "description": "",
            "_model_name": "HTMLModel",
            "placeholder": "​",
            "_view_module": "@jupyter-widgets/controls",
            "_model_module_version": "1.5.0",
            "value": " 528M/528M [00:06&lt;00:00, 71.9MB/s]",
            "_view_count": null,
            "_view_module_version": "1.5.0",
            "description_tooltip": null,
            "_model_module": "@jupyter-widgets/controls",
            "layout": "IPY_MODEL_33359703e7cf427c9ac56a43d0dc96af"
          }
        },
        "c27238688c65413cbf39b50cfcf9a09d": {
          "model_module": "@jupyter-widgets/controls",
          "model_name": "DescriptionStyleModel",
          "model_module_version": "1.5.0",
          "state": {
            "_view_name": "StyleView",
            "_model_name": "DescriptionStyleModel",
            "description_width": "",
            "_view_module": "@jupyter-widgets/base",
            "_model_module_version": "1.5.0",
            "_view_count": null,
            "_view_module_version": "1.2.0",
            "_model_module": "@jupyter-widgets/controls"
          }
        },
        "165a1c6e41624c70b53aeb4babf133a3": {
          "model_module": "@jupyter-widgets/base",
          "model_name": "LayoutModel",
          "model_module_version": "1.2.0",
          "state": {
            "_view_name": "LayoutView",
            "grid_template_rows": null,
            "right": null,
            "justify_content": null,
            "_view_module": "@jupyter-widgets/base",
            "overflow": null,
            "_model_module_version": "1.2.0",
            "_view_count": null,
            "flex_flow": null,
            "width": null,
            "min_width": null,
            "border": null,
            "align_items": null,
            "bottom": null,
            "_model_module": "@jupyter-widgets/base",
            "top": null,
            "grid_column": null,
            "overflow_y": null,
            "overflow_x": null,
            "grid_auto_flow": null,
            "grid_area": null,
            "grid_template_columns": null,
            "flex": null,
            "_model_name": "LayoutModel",
            "justify_items": null,
            "grid_row": null,
            "max_height": null,
            "align_content": null,
            "visibility": null,
            "align_self": null,
            "height": null,
            "min_height": null,
            "padding": null,
            "grid_auto_rows": null,
            "grid_gap": null,
            "max_width": null,
            "order": null,
            "_view_module_version": "1.2.0",
            "grid_template_areas": null,
            "object_position": null,
            "object_fit": null,
            "grid_auto_columns": null,
            "margin": null,
            "display": null,
            "left": null
          }
        },
        "43978015583740ddbcc544e6a8a04074": {
          "model_module": "@jupyter-widgets/controls",
          "model_name": "ProgressStyleModel",
          "model_module_version": "1.5.0",
          "state": {
            "_view_name": "StyleView",
            "_model_name": "ProgressStyleModel",
            "description_width": "",
            "_view_module": "@jupyter-widgets/base",
            "_model_module_version": "1.5.0",
            "_view_count": null,
            "_view_module_version": "1.2.0",
            "bar_color": null,
            "_model_module": "@jupyter-widgets/controls"
          }
        },
        "9505faa32a024c3681a211901bf2a48a": {
          "model_module": "@jupyter-widgets/base",
          "model_name": "LayoutModel",
          "model_module_version": "1.2.0",
          "state": {
            "_view_name": "LayoutView",
            "grid_template_rows": null,
            "right": null,
            "justify_content": null,
            "_view_module": "@jupyter-widgets/base",
            "overflow": null,
            "_model_module_version": "1.2.0",
            "_view_count": null,
            "flex_flow": null,
            "width": null,
            "min_width": null,
            "border": null,
            "align_items": null,
            "bottom": null,
            "_model_module": "@jupyter-widgets/base",
            "top": null,
            "grid_column": null,
            "overflow_y": null,
            "overflow_x": null,
            "grid_auto_flow": null,
            "grid_area": null,
            "grid_template_columns": null,
            "flex": null,
            "_model_name": "LayoutModel",
            "justify_items": null,
            "grid_row": null,
            "max_height": null,
            "align_content": null,
            "visibility": null,
            "align_self": null,
            "height": null,
            "min_height": null,
            "padding": null,
            "grid_auto_rows": null,
            "grid_gap": null,
            "max_width": null,
            "order": null,
            "_view_module_version": "1.2.0",
            "grid_template_areas": null,
            "object_position": null,
            "object_fit": null,
            "grid_auto_columns": null,
            "margin": null,
            "display": null,
            "left": null
          }
        },
        "a9484494e53f4814b83b8964179ed98e": {
          "model_module": "@jupyter-widgets/controls",
          "model_name": "DescriptionStyleModel",
          "model_module_version": "1.5.0",
          "state": {
            "_view_name": "StyleView",
            "_model_name": "DescriptionStyleModel",
            "description_width": "",
            "_view_module": "@jupyter-widgets/base",
            "_model_module_version": "1.5.0",
            "_view_count": null,
            "_view_module_version": "1.2.0",
            "_model_module": "@jupyter-widgets/controls"
          }
        },
        "33359703e7cf427c9ac56a43d0dc96af": {
          "model_module": "@jupyter-widgets/base",
          "model_name": "LayoutModel",
          "model_module_version": "1.2.0",
          "state": {
            "_view_name": "LayoutView",
            "grid_template_rows": null,
            "right": null,
            "justify_content": null,
            "_view_module": "@jupyter-widgets/base",
            "overflow": null,
            "_model_module_version": "1.2.0",
            "_view_count": null,
            "flex_flow": null,
            "width": null,
            "min_width": null,
            "border": null,
            "align_items": null,
            "bottom": null,
            "_model_module": "@jupyter-widgets/base",
            "top": null,
            "grid_column": null,
            "overflow_y": null,
            "overflow_x": null,
            "grid_auto_flow": null,
            "grid_area": null,
            "grid_template_columns": null,
            "flex": null,
            "_model_name": "LayoutModel",
            "justify_items": null,
            "grid_row": null,
            "max_height": null,
            "align_content": null,
            "visibility": null,
            "align_self": null,
            "height": null,
            "min_height": null,
            "padding": null,
            "grid_auto_rows": null,
            "grid_gap": null,
            "max_width": null,
            "order": null,
            "_view_module_version": "1.2.0",
            "grid_template_areas": null,
            "object_position": null,
            "object_fit": null,
            "grid_auto_columns": null,
            "margin": null,
            "display": null,
            "left": null
          }
        }
      }
    }
  },
  "cells": [
    {
      "cell_type": "markdown",
      "metadata": {
        "id": "UzLEL_YUAOCk"
      },
      "source": [
        "# 0. quick start"
      ]
    },
    {
      "cell_type": "code",
      "metadata": {
        "id": "8QTxDX3nAF2y"
      },
      "source": [
        "import torch\n",
        "from torch import nn\n",
        "from torch.utils.data import DataLoader\n",
        "from torchvision import datasets\n",
        "from torchvision.transforms import ToTensor, Lambda, Compose\n",
        "import matplotlib.pyplot as plt"
      ],
      "execution_count": 45,
      "outputs": []
    },
    {
      "cell_type": "code",
      "metadata": {
        "id": "O_uqG7bdAkr0"
      },
      "source": [
        "training_data = datasets.FashionMNIST(root=\"data\",\n",
        "                                      train=True,\n",
        "                                      download=True,\n",
        "                                      transform=ToTensor())\n",
        "test_data = datasets.FashionMNIST(root=\"data\",\n",
        "                                      train=False,\n",
        "                                      download=True,\n",
        "                                      transform=ToTensor())\n"
      ],
      "execution_count": 46,
      "outputs": []
    },
    {
      "cell_type": "code",
      "metadata": {
        "colab": {
          "base_uri": "https://localhost:8080/"
        },
        "id": "c--XvooKBGkx",
        "outputId": "9c021e8d-16bb-49ca-c4e9-711bfaf667d8"
      },
      "source": [
        "batch_size=64\n",
        "train_dataloader=DataLoader(training_data, batch_size=batch_size)\n",
        "test_dataloader= DataLoader(test_data, batch_size=batch_size)\n",
        "\n",
        "for X,y in test_dataloader:\n",
        "  print(\"shape of X[N, C, H, W]:\", X.shape)\n",
        "  print(\"shape of Y:\", y.shape, y.dtype)\n",
        "  break"
      ],
      "execution_count": 47,
      "outputs": [
        {
          "output_type": "stream",
          "name": "stdout",
          "text": [
            "shape of X[N, C, H, W]: torch.Size([64, 1, 28, 28])\n",
            "shape of Y: torch.Size([64]) torch.int64\n"
          ]
        }
      ]
    },
    {
      "cell_type": "code",
      "metadata": {
        "colab": {
          "base_uri": "https://localhost:8080/"
        },
        "id": "LB4_v8V-BRP0",
        "outputId": "e77f6963-8736-4d05-faba-bd3149b858d8"
      },
      "source": [
        "device = \"cuda\" if torch.cuda.is_available() else \"cpu\"\n",
        "print(\"using {} device\".format(device))\n",
        "class NeuralNetwork(nn.Module):\n",
        "  def __init__(self):\n",
        "    super(NeuralNetwork, self).__init__() # nn.module에서 가져오기위해\n",
        "    self.flatten = nn.Flatten()\n",
        "    self.linear_relu_stack = nn.Sequential(\n",
        "        nn.Linear(28*28, 512),\n",
        "        nn.ReLU(),\n",
        "        nn.Linear(512, 512),\n",
        "        nn.ReLU(),\n",
        "        nn.Linear(512, 10),\n",
        "    )\n",
        "  def forward(self,x):\n",
        "    x=self.flatten(x)\n",
        "    logits=self.linear_relu_stack(x)\n",
        "    return logits\n",
        "  \n",
        "model = NeuralNetwork().to(device)\n",
        "print(model)"
      ],
      "execution_count": 48,
      "outputs": [
        {
          "output_type": "stream",
          "name": "stdout",
          "text": [
            "using cpu device\n",
            "NeuralNetwork(\n",
            "  (flatten): Flatten(start_dim=1, end_dim=-1)\n",
            "  (linear_relu_stack): Sequential(\n",
            "    (0): Linear(in_features=784, out_features=512, bias=True)\n",
            "    (1): ReLU()\n",
            "    (2): Linear(in_features=512, out_features=512, bias=True)\n",
            "    (3): ReLU()\n",
            "    (4): Linear(in_features=512, out_features=10, bias=True)\n",
            "  )\n",
            ")\n"
          ]
        }
      ]
    },
    {
      "cell_type": "markdown",
      "metadata": {
        "id": "Cj3P9z2IElO9"
      },
      "source": [
        "# 모델 최적화"
      ]
    },
    {
      "cell_type": "code",
      "metadata": {
        "id": "N14kFve3EU9C"
      },
      "source": [
        "loss_fn = nn.CrossEntropyLoss()\n",
        "optimizer=torch.optim.SGD(model.parameters(), lr=1e-3)"
      ],
      "execution_count": 49,
      "outputs": []
    },
    {
      "cell_type": "code",
      "metadata": {
        "id": "nrHlaALoFZYX"
      },
      "source": [
        "def train(dataloader, model, loss_fn, optimizer):\n",
        "  size = len(dataloader.dataset)\n",
        "  model.train()\n",
        "  for batch, (X, y) in enumerate(dataloader):\n",
        "    X, y = X.to(device), y.to(device)\n",
        "    pred = model(X)\n",
        "    loss = loss_fn(pred, y)\n",
        "\n",
        "    optimizer.zero_grad()\n",
        "    loss.backward()\n",
        "    optimizer.step()\n",
        "    if batch % 100 == 0:\n",
        "      loss, current = loss.item(), batch*len(X)\n",
        "      print(f\"loss: {loss:>7f} [{current:>5d}/{size:>5d}]\")"
      ],
      "execution_count": 50,
      "outputs": []
    },
    {
      "cell_type": "code",
      "metadata": {
        "id": "R68PDmdLGFbC"
      },
      "source": [
        "def test(dataloader, model, loss_fn):\n",
        "  size = len(dataloader.dataset)\n",
        "  num_batches = len(dataloader)\n",
        "  model.eval()\n",
        "  test_loss, correct = 0, 0\n",
        "  with torch.no_grad():\n",
        "    for X, y in dataloader:\n",
        "      X, y = X.to(device), y.to(device)\n",
        "      pred = model(X)\n",
        "      test_loss += loss_fn(pred, y).item()\n",
        "      correct += (pred.argmax(1)==y).type(torch.float).sum().item()\n",
        "  test_loss /= num_batches\n",
        "  correct /= size\n",
        "  print(f\"Test Error : |n Accuracy:{(100*correct):>0.1f}%, avgloss: {test_loss:>8f} |n\")"
      ],
      "execution_count": 51,
      "outputs": []
    },
    {
      "cell_type": "code",
      "metadata": {
        "colab": {
          "base_uri": "https://localhost:8080/"
        },
        "id": "beq2FqjnG2r7",
        "outputId": "32d8416d-e557-40dc-ff9d-15badf107d46"
      },
      "source": [
        "epochs = 5\n",
        "for t in range(epochs):\n",
        "  print(f\"Epoch {t+1}|n--------------\")\n",
        "  train(train_dataloader, model, loss_fn, optimizer)\n",
        "  test(test_dataloader, model, loss_fn)\n",
        "  print(\"DONE!\")"
      ],
      "execution_count": 52,
      "outputs": [
        {
          "output_type": "stream",
          "name": "stdout",
          "text": [
            "Epoch 1|n--------------\n",
            "loss: 2.300939 [    0/60000]\n",
            "loss: 2.287468 [ 6400/60000]\n",
            "loss: 2.269239 [12800/60000]\n",
            "loss: 2.264663 [19200/60000]\n",
            "loss: 2.248616 [25600/60000]\n",
            "loss: 2.220485 [32000/60000]\n",
            "loss: 2.221078 [38400/60000]\n",
            "loss: 2.193626 [44800/60000]\n",
            "loss: 2.181703 [51200/60000]\n",
            "loss: 2.147693 [57600/60000]\n",
            "Test Error : |n Accuracy:49.3%, avgloss: 2.154956 |n\n",
            "DONE!\n",
            "Epoch 2|n--------------\n",
            "loss: 2.160426 [    0/60000]\n",
            "loss: 2.150639 [ 6400/60000]\n",
            "loss: 2.101544 [12800/60000]\n",
            "loss: 2.123916 [19200/60000]\n",
            "loss: 2.061261 [25600/60000]\n",
            "loss: 2.006832 [32000/60000]\n",
            "loss: 2.025630 [38400/60000]\n",
            "loss: 1.952343 [44800/60000]\n",
            "loss: 1.949193 [51200/60000]\n",
            "loss: 1.873352 [57600/60000]\n",
            "Test Error : |n Accuracy:56.5%, avgloss: 1.889215 |n\n",
            "DONE!\n",
            "Epoch 3|n--------------\n",
            "loss: 1.915530 [    0/60000]\n",
            "loss: 1.883866 [ 6400/60000]\n",
            "loss: 1.783535 [12800/60000]\n",
            "loss: 1.830875 [19200/60000]\n",
            "loss: 1.705288 [25600/60000]\n",
            "loss: 1.664204 [32000/60000]\n",
            "loss: 1.678895 [38400/60000]\n",
            "loss: 1.583867 [44800/60000]\n",
            "loss: 1.604400 [51200/60000]\n",
            "loss: 1.496669 [57600/60000]\n",
            "Test Error : |n Accuracy:60.1%, avgloss: 1.529197 |n\n",
            "DONE!\n",
            "Epoch 4|n--------------\n",
            "loss: 1.591228 [    0/60000]\n",
            "loss: 1.550787 [ 6400/60000]\n",
            "loss: 1.419795 [12800/60000]\n",
            "loss: 1.493459 [19200/60000]\n",
            "loss: 1.364859 [25600/60000]\n",
            "loss: 1.366655 [32000/60000]\n",
            "loss: 1.370631 [38400/60000]\n",
            "loss: 1.293003 [44800/60000]\n",
            "loss: 1.325782 [51200/60000]\n",
            "loss: 1.228015 [57600/60000]\n",
            "Test Error : |n Accuracy:62.4%, avgloss: 1.261537 |n\n",
            "DONE!\n",
            "Epoch 5|n--------------\n",
            "loss: 1.336023 [    0/60000]\n",
            "loss: 1.309790 [ 6400/60000]\n",
            "loss: 1.161221 [12800/60000]\n",
            "loss: 1.267887 [19200/60000]\n",
            "loss: 1.139530 [25600/60000]\n",
            "loss: 1.165420 [32000/60000]\n",
            "loss: 1.179038 [38400/60000]\n",
            "loss: 1.108372 [44800/60000]\n",
            "loss: 1.148369 [51200/60000]\n",
            "loss: 1.068503 [57600/60000]\n",
            "Test Error : |n Accuracy:64.2%, avgloss: 1.093737 |n\n",
            "DONE!\n"
          ]
        }
      ]
    },
    {
      "cell_type": "code",
      "metadata": {
        "colab": {
          "base_uri": "https://localhost:8080/"
        },
        "id": "m4X1ko4mHHWd",
        "outputId": "106796b5-113f-4d84-c24e-f82722dd7db6"
      },
      "source": [
        "torch.save(model.state_dict(), \"model.pth\")\n",
        "print(\"Saved PyTorch Model State to model.pth\")"
      ],
      "execution_count": 53,
      "outputs": [
        {
          "output_type": "stream",
          "name": "stdout",
          "text": [
            "Saved PyTorch Model State to model.pth\n"
          ]
        }
      ]
    },
    {
      "cell_type": "code",
      "metadata": {
        "colab": {
          "base_uri": "https://localhost:8080/"
        },
        "id": "AH8cPTYBH-ok",
        "outputId": "0a02ab74-58bd-4440-ffe3-23264c08ff27"
      },
      "source": [
        "model = NeuralNetwork()\n",
        "model.load_state_dict(torch.load(\"model.pth\"))"
      ],
      "execution_count": 54,
      "outputs": [
        {
          "output_type": "execute_result",
          "data": {
            "text/plain": [
              "<All keys matched successfully>"
            ]
          },
          "metadata": {},
          "execution_count": 54
        }
      ]
    },
    {
      "cell_type": "code",
      "metadata": {
        "colab": {
          "base_uri": "https://localhost:8080/"
        },
        "id": "VGtSpQZcIAHX",
        "outputId": "345fb241-eaf0-4898-e36d-fbeec0bbc91d"
      },
      "source": [
        "classes = [\n",
        "    \"T-shirt/top\",\n",
        "    \"Trouser\",\n",
        "    \"Pullover\",\n",
        "    \"Dress\",\n",
        "    \"Coat\",\n",
        "    \"Sandal\",\n",
        "    \"Shirt\",\n",
        "    \"Sneaker\",\n",
        "    \"Bag\",\n",
        "    \"Ankle boot\",\n",
        "]\n",
        "\n",
        "model.eval()\n",
        "x, y = test_data[0][0], test_data[0][1]\n",
        "with torch.no_grad():\n",
        "  pred=model(x)\n",
        "  predicted, actual = classes[pred[0].argmax(0)], classes[y]\n",
        "  print(f'Predicted: \"{predicted}\", Actual: \"{actual}\"')\n"
      ],
      "execution_count": 55,
      "outputs": [
        {
          "output_type": "stream",
          "name": "stdout",
          "text": [
            "Predicted: \"Ankle boot\", Actual: \"Ankle boot\"\n"
          ]
        }
      ]
    },
    {
      "cell_type": "markdown",
      "metadata": {
        "id": "mDBByiQXMV0P"
      },
      "source": [
        "# Tensors"
      ]
    },
    {
      "cell_type": "code",
      "metadata": {
        "id": "4m5IvgfUMXM8"
      },
      "source": [
        "import numpy as np"
      ],
      "execution_count": 56,
      "outputs": []
    },
    {
      "cell_type": "code",
      "metadata": {
        "id": "dow64O9UIciQ"
      },
      "source": [
        "data = [[1, 2],[3, 4]]\n",
        "x_data = torch.tensor(data)"
      ],
      "execution_count": 57,
      "outputs": []
    },
    {
      "cell_type": "code",
      "metadata": {
        "colab": {
          "base_uri": "https://localhost:8080/"
        },
        "id": "q9yUBbnZNhQ9",
        "outputId": "575f8af1-eda3-4c55-984d-06b5b176e0be"
      },
      "source": [
        "np_array = np.array(data)\n",
        "np_array"
      ],
      "execution_count": 58,
      "outputs": [
        {
          "output_type": "execute_result",
          "data": {
            "text/plain": [
              "array([[1, 2],\n",
              "       [3, 4]])"
            ]
          },
          "metadata": {},
          "execution_count": 58
        }
      ]
    },
    {
      "cell_type": "code",
      "metadata": {
        "colab": {
          "base_uri": "https://localhost:8080/"
        },
        "id": "X3m-_1SINsx8",
        "outputId": "b2da4f05-f6f6-4d88-8de4-32c134a2dd9c"
      },
      "source": [
        "x_np = torch.from_numpy(np_array)\n",
        "x_np"
      ],
      "execution_count": 59,
      "outputs": [
        {
          "output_type": "execute_result",
          "data": {
            "text/plain": [
              "tensor([[1, 2],\n",
              "        [3, 4]])"
            ]
          },
          "metadata": {},
          "execution_count": 59
        }
      ]
    },
    {
      "cell_type": "code",
      "metadata": {
        "colab": {
          "base_uri": "https://localhost:8080/"
        },
        "id": "XJUFwyupNwGi",
        "outputId": "350b1ea3-528d-47e5-dab9-24e12e1b6794"
      },
      "source": [
        "x_ones = torch.ones_like(x_data)\n",
        "print(f\"Ones Tensor: \\n {x_ones} \\n\")\n",
        "x_rand = torch.rand_like(x_data, dtype=torch.float)\n",
        "print(f\"Random Tensor: \\n {x_rand} \\n\")"
      ],
      "execution_count": 60,
      "outputs": [
        {
          "output_type": "stream",
          "name": "stdout",
          "text": [
            "Ones Tensor: \n",
            " tensor([[1, 1],\n",
            "        [1, 1]]) \n",
            "\n",
            "Random Tensor: \n",
            " tensor([[0.3267, 0.4863],\n",
            "        [0.4707, 0.6359]]) \n",
            "\n"
          ]
        }
      ]
    },
    {
      "cell_type": "code",
      "metadata": {
        "colab": {
          "base_uri": "https://localhost:8080/"
        },
        "id": "2dDt7YHcNzUz",
        "outputId": "39714766-252a-4e04-af29-6bc296ee52e1"
      },
      "source": [
        "shape = (2,3,)\n",
        "rand_tensor = torch.rand(shape)\n",
        "ones_tensor = torch.ones(shape)\n",
        "zeros_tensor = torch.zeros(shape)\n",
        "\n",
        "print(f\"Random Tensor: \\n {rand_tensor} \\n\")\n",
        "print(f\"Ones Tensor: \\n {ones_tensor} \\n\")\n",
        "print(f\"Zeros Tensor: \\n {zeros_tensor}\")"
      ],
      "execution_count": 61,
      "outputs": [
        {
          "output_type": "stream",
          "name": "stdout",
          "text": [
            "Random Tensor: \n",
            " tensor([[0.3267, 0.9291, 0.1623],\n",
            "        [0.7825, 0.6494, 0.0264]]) \n",
            "\n",
            "Ones Tensor: \n",
            " tensor([[1., 1., 1.],\n",
            "        [1., 1., 1.]]) \n",
            "\n",
            "Zeros Tensor: \n",
            " tensor([[0., 0., 0.],\n",
            "        [0., 0., 0.]])\n"
          ]
        }
      ]
    },
    {
      "cell_type": "code",
      "metadata": {
        "colab": {
          "base_uri": "https://localhost:8080/"
        },
        "id": "uLYxunF7OPxg",
        "outputId": "3ca5196a-7c93-4db7-f0d9-a836337eca9d"
      },
      "source": [
        "# 텐서의 특성\n",
        "tensor = torch.rand(3,4)\n",
        "print(f\"shpae of tensor: {tensor.shape}\")\n",
        "print(f\"datatype of tensor: {tensor.dtype}\")\n",
        "print(f\"Device tensor is stored on : {tensor.device}\")"
      ],
      "execution_count": 62,
      "outputs": [
        {
          "output_type": "stream",
          "name": "stdout",
          "text": [
            "shpae of tensor: torch.Size([3, 4])\n",
            "datatype of tensor: torch.float32\n",
            "Device tensor is stored on : cpu\n"
          ]
        }
      ]
    },
    {
      "cell_type": "code",
      "metadata": {
        "id": "l2WJQ_BXOPu0"
      },
      "source": [
        "if torch.cuda.is_available():\n",
        "  tensor = tensor.to('cuda')"
      ],
      "execution_count": 63,
      "outputs": []
    },
    {
      "cell_type": "code",
      "metadata": {
        "colab": {
          "base_uri": "https://localhost:8080/"
        },
        "id": "I6UYF2D1OPr-",
        "outputId": "d7405cfd-dfae-4698-e5f1-97d12ab6144a"
      },
      "source": [
        "tensor = torch.ones(4, 4)\n",
        "print('First row: ', tensor[0])\n",
        "print('First column: ', tensor[:, 0])\n",
        "print('Last column:', tensor[..., -1])\n",
        "tensor[:,1] = 0\n",
        "print(tensor)"
      ],
      "execution_count": 64,
      "outputs": [
        {
          "output_type": "stream",
          "name": "stdout",
          "text": [
            "First row:  tensor([1., 1., 1., 1.])\n",
            "First column:  tensor([1., 1., 1., 1.])\n",
            "Last column: tensor([1., 1., 1., 1.])\n",
            "tensor([[1., 0., 1., 1.],\n",
            "        [1., 0., 1., 1.],\n",
            "        [1., 0., 1., 1.],\n",
            "        [1., 0., 1., 1.]])\n"
          ]
        }
      ]
    },
    {
      "cell_type": "code",
      "metadata": {
        "colab": {
          "base_uri": "https://localhost:8080/"
        },
        "id": "F4qKNSnKPGlR",
        "outputId": "a219f2ee-b520-4568-a87a-07e7e3ffbf49"
      },
      "source": [
        "t1 = torch.cat([tensor, tensor, tensor], dim=1)\n",
        "print(t1)"
      ],
      "execution_count": 65,
      "outputs": [
        {
          "output_type": "stream",
          "name": "stdout",
          "text": [
            "tensor([[1., 0., 1., 1., 1., 0., 1., 1., 1., 0., 1., 1.],\n",
            "        [1., 0., 1., 1., 1., 0., 1., 1., 1., 0., 1., 1.],\n",
            "        [1., 0., 1., 1., 1., 0., 1., 1., 1., 0., 1., 1.],\n",
            "        [1., 0., 1., 1., 1., 0., 1., 1., 1., 0., 1., 1.]])\n"
          ]
        }
      ]
    },
    {
      "cell_type": "code",
      "metadata": {
        "colab": {
          "base_uri": "https://localhost:8080/"
        },
        "id": "l0CGBJpHPGiw",
        "outputId": "bc369085-6d0f-4799-9fd8-8a93769fa399"
      },
      "source": [
        "y1 = tensor @tensor.T\n",
        "y2 = tensor.matmul(tensor.T)\n",
        "y3 = torch.rand_like(tensor)\n",
        "torch.matmul(tensor, tensor.T, out=y3)\n",
        "\n",
        "z1 = tensor*tensor\n",
        "z2 = tensor.mul(tensor)\n",
        "z3 = torch.rand_like(tensor)\n",
        "torch.mul(tensor, tensor, out=z3)"
      ],
      "execution_count": 66,
      "outputs": [
        {
          "output_type": "execute_result",
          "data": {
            "text/plain": [
              "tensor([[1., 0., 1., 1.],\n",
              "        [1., 0., 1., 1.],\n",
              "        [1., 0., 1., 1.],\n",
              "        [1., 0., 1., 1.]])"
            ]
          },
          "metadata": {},
          "execution_count": 66
        }
      ]
    },
    {
      "cell_type": "code",
      "metadata": {
        "colab": {
          "base_uri": "https://localhost:8080/"
        },
        "id": "wIV4bPcYPGfX",
        "outputId": "c7e6f4e2-0505-4b07-e9d5-84d519afc09c"
      },
      "source": [
        "# 하나의 요소이면, item으로 파이썬 값으로 변환\n",
        "agg = tensor.sum()\n",
        "agg_item = agg.item()\n",
        "print(agg_item, type(agg_item))"
      ],
      "execution_count": 67,
      "outputs": [
        {
          "output_type": "stream",
          "name": "stdout",
          "text": [
            "12.0 <class 'float'>\n"
          ]
        }
      ]
    },
    {
      "cell_type": "code",
      "metadata": {
        "colab": {
          "base_uri": "https://localhost:8080/"
        },
        "id": "ys49NkgmP6qo",
        "outputId": "439e6938-e6b6-4efd-ff96-e77762ce801a"
      },
      "source": [
        "print(tensor, \"\\n\")\n",
        "tensor.add_(5)\n",
        "print(tensor)"
      ],
      "execution_count": 68,
      "outputs": [
        {
          "output_type": "stream",
          "name": "stdout",
          "text": [
            "tensor([[1., 0., 1., 1.],\n",
            "        [1., 0., 1., 1.],\n",
            "        [1., 0., 1., 1.],\n",
            "        [1., 0., 1., 1.]]) \n",
            "\n",
            "tensor([[6., 5., 6., 6.],\n",
            "        [6., 5., 6., 6.],\n",
            "        [6., 5., 6., 6.],\n",
            "        [6., 5., 6., 6.]])\n"
          ]
        }
      ]
    },
    {
      "cell_type": "code",
      "metadata": {
        "colab": {
          "base_uri": "https://localhost:8080/"
        },
        "id": "gXRVLmWvP6oA",
        "outputId": "25307673-7437-4926-9efc-7ff342e79a69"
      },
      "source": [
        "t = torch.ones(5)\n",
        "print(f\"t: {t}\")\n",
        "n = t.numpy()\n",
        "print(f\"n: {n}\")"
      ],
      "execution_count": 69,
      "outputs": [
        {
          "output_type": "stream",
          "name": "stdout",
          "text": [
            "t: tensor([1., 1., 1., 1., 1.])\n",
            "n: [1. 1. 1. 1. 1.]\n"
          ]
        }
      ]
    },
    {
      "cell_type": "code",
      "metadata": {
        "colab": {
          "base_uri": "https://localhost:8080/"
        },
        "id": "9eQ8oJhMP6ly",
        "outputId": "fe235eac-dea0-434a-bc83-9693193d9a0f"
      },
      "source": [
        "# 넘파이랑 텐서랑 공유됨\n",
        "t.add_(1)\n",
        "print(f\"t: {t}\")\n",
        "print(f\"n: {n}\")"
      ],
      "execution_count": 70,
      "outputs": [
        {
          "output_type": "stream",
          "name": "stdout",
          "text": [
            "t: tensor([2., 2., 2., 2., 2.])\n",
            "n: [2. 2. 2. 2. 2.]\n"
          ]
        }
      ]
    },
    {
      "cell_type": "code",
      "metadata": {
        "id": "WtL61-mEPGag"
      },
      "source": [
        "n = np.ones(5)\n",
        "t = torch.from_numpy(n)"
      ],
      "execution_count": 71,
      "outputs": []
    },
    {
      "cell_type": "code",
      "metadata": {
        "colab": {
          "base_uri": "https://localhost:8080/"
        },
        "id": "LI7W303SQflJ",
        "outputId": "0c085901-7f28-469d-b32f-ebc877f93a21"
      },
      "source": [
        "np.add(n, 1, out=n)\n",
        "print(f\"t: {t}\")\n",
        "print(f\"n: {n}\")"
      ],
      "execution_count": 72,
      "outputs": [
        {
          "output_type": "stream",
          "name": "stdout",
          "text": [
            "t: tensor([2., 2., 2., 2., 2.], dtype=torch.float64)\n",
            "n: [2. 2. 2. 2. 2.]\n"
          ]
        }
      ]
    },
    {
      "cell_type": "markdown",
      "metadata": {
        "id": "DBE4YnoZh1oo"
      },
      "source": [
        "# Dataset&DataLoader\n",
        "- torch.utils.data.DataLoader : Dataset 반복되어있음\n",
        "- torch.utils.data.Dataset : 샘플과 corresponding labels 저장"
      ]
    },
    {
      "cell_type": "code",
      "metadata": {
        "id": "neakCIJghiiD"
      },
      "source": [
        "training_data = datasets.FashionMNIST(\n",
        "    root=\"data\",\n",
        "    train=True,\n",
        "    download=True,\n",
        "    transform=ToTensor()\n",
        ")\n",
        "\n",
        "test_data = datasets.FashionMNIST(\n",
        "    root=\"data\",\n",
        "    train=False,\n",
        "    download=True,\n",
        "    transform=ToTensor()\n",
        ")"
      ],
      "execution_count": 80,
      "outputs": []
    },
    {
      "cell_type": "code",
      "metadata": {
        "colab": {
          "base_uri": "https://localhost:8080/",
          "height": 482
        },
        "id": "-9-DqZP7hiaF",
        "outputId": "f1e45d42-6abc-4a7a-a780-de6263b58a3d"
      },
      "source": [
        "labels_map = {\n",
        "    0: \"T-Shirt\",\n",
        "    1: \"Trouser\",\n",
        "    2: \"Pullover\",\n",
        "    3: \"Dress\",\n",
        "    4: \"Coat\",\n",
        "    5: \"Sandal\",\n",
        "    6: \"Shirt\",\n",
        "    7: \"Sneaker\",\n",
        "    8: \"Bag\",\n",
        "    9: \"Ankle Boot\",\n",
        "}\n",
        "figure = plt.figure(figsize=(8, 8))\n",
        "cols, rows = 3, 3\n",
        "for i in range(1, cols * rows + 1):\n",
        "    sample_idx = torch.randint(len(training_data), size=(1,)).item()\n",
        "    img, label = training_data[sample_idx]\n",
        "    figure.add_subplot(rows, cols, i)\n",
        "    plt.title(labels_map[label])\n",
        "    plt.axis(\"off\")\n",
        "    plt.imshow(img.squeeze(), cmap=\"gray\")\n",
        "plt.show()"
      ],
      "execution_count": 81,
      "outputs": [
        {
          "output_type": "display_data",
          "data": {
            "image/png": "[encoded data removed]",
            "text/plain": [
              "<Figure size 576x576 with 9 Axes>"
            ]
          },
          "metadata": {
            "needs_background": "light"
          }
        }
      ]
    },
    {
      "cell_type": "code",
      "metadata": {
        "id": "CMxnMRrjmBYH"
      },
      "source": [
        "import os\n",
        "import pandas as pd\n",
        "from torchvision.io import read_image\n",
        "\n",
        "class CustomImageDataset(Dataset):\n",
        "  def __init__(self, annotations_file, img_dir, transform=None, target_transform=None): # data set instant\n",
        "    self.img_labels = pd.read_csv(annotations_file)\n",
        "    self.img_dir=img_dir\n",
        "    self.transform=transform\n",
        "    self.target_transform=target_transform\n",
        "\n",
        "  def __len__(self): #데이터셋의 길이\n",
        "    return len(self.img_labels)\n",
        "\n",
        "  def __getitem__(self, idx): # 지정된 idx에서 샘플 반환\n",
        "    img_path = os.path.join(self.img_dir, self.img_labels.iloc[idx, 0])\n",
        "    image = read_imgae(img_path)\n",
        "    label = self.img_labels.iloc[idx, 1]\n",
        "    if self.transform:\n",
        "      image=self.transform(image)\n",
        "    if self.target_transform:\n",
        "      label = self.target_transform(label)\n",
        "    return image, label"
      ],
      "execution_count": null,
      "outputs": []
    },
    {
      "cell_type": "code",
      "metadata": {
        "id": "M21tB6oZmBVG"
      },
      "source": [
        "train_dataloader = DataLoader(training_data, batch_size=64, shuffle=True)\n",
        "test_dataloader = DataLoader(test_data, batch_size=64, shuffle=True)"
      ],
      "execution_count": 82,
      "outputs": []
    },
    {
      "cell_type": "code",
      "metadata": {
        "colab": {
          "base_uri": "https://localhost:8080/",
          "height": 317
        },
        "id": "C3rzNhUgmBR_",
        "outputId": "438e29e8-aefb-4207-fbf8-9324d6e8cda1"
      },
      "source": [
        "train_features, train_labels = next(iter(train_dataloader))\n",
        "print(f\"Feature batch shape: {train_features.size()}\")\n",
        "print(f\"Labels batch shape: {train_labels.size()}\")\n",
        "img = train_features[0].squeeze()\n",
        "label = train_labels[0]\n",
        "plt.imshow(img, cmap=\"gray\")\n",
        "plt.show()\n",
        "print(f\"Label: {label}\")"
      ],
      "execution_count": 83,
      "outputs": [
        {
          "output_type": "stream",
          "name": "stdout",
          "text": [
            "Feature batch shape: torch.Size([64, 1, 28, 28])\n",
            "Labels batch shape: torch.Size([64])\n"
          ]
        },
        {
          "output_type": "display_data",
          "data": {
            "image/png": "[encoded data removed]",
            "text/plain": [
              "<Figure size 432x288 with 1 Axes>"
            ]
          },
          "metadata": {
            "needs_background": "light"
          }
        },
        {
          "output_type": "stream",
          "name": "stdout",
          "text": [
            "Label: 1\n"
          ]
        }
      ]
    },
    {
      "cell_type": "markdown",
      "metadata": {
        "id": "6QK9oaP5nnwq"
      },
      "source": [
        "# Transforms"
      ]
    },
    {
      "cell_type": "code",
      "metadata": {
        "id": "ycViXyn_oFYt"
      },
      "source": [
        "import torch\n",
        "from torchvision import datasets\n",
        "from torchvision.transforms import ToTensor, Lambda\n",
        "\n",
        "ds = datasets.FashionMNIST(\n",
        "    root=\"data\",\n",
        "    train=True,\n",
        "    download=True,\n",
        "    transform=ToTensor(), # 이미지 또는 넘파이를 0~1사이 텐서로 바꾸어줌\n",
        "    target_transform=Lambda(lambda y: torch.zeros(10, dtype=torch.float).scatter_(0, torch.tensor(y), value=1)) # Lambda one hot인코딩\n",
        ")"
      ],
      "execution_count": 84,
      "outputs": []
    },
    {
      "cell_type": "markdown",
      "metadata": {
        "id": "UjtPySlzobz4"
      },
      "source": [
        "# Build NN"
      ]
    },
    {
      "cell_type": "code",
      "metadata": {
        "id": "rw-l9fF5oFVl"
      },
      "source": [
        "import os\n",
        "import torch\n",
        "from torch import nn # 신경망을 구축하는데 필요한 모듈 제공\n",
        "from torch.utils.data import DataLoader\n",
        "from torchvision import datasets, transforms"
      ],
      "execution_count": null,
      "outputs": []
    },
    {
      "cell_type": "code",
      "metadata": {
        "colab": {
          "base_uri": "https://localhost:8080/"
        },
        "id": "b2ql1d4XoFR4",
        "outputId": "5c29c045-fe19-4206-a912-67597ce9d135"
      },
      "source": [
        "device = \"cuda\" if torch.cuda.is_available() else \"cpu\"\n",
        "print(\"using {} device\".format(device))\n",
        "class NeuralNetwork(nn.Module): # 모듈을 subclassing, 그리고 __init__으로 레이어 초기화\n",
        "  def __init__(self):\n",
        "    super(NeuralNetwork, self).__init__() # nn.module에서 가져오기위해\n",
        "    self.flatten = nn.Flatten()\n",
        "    self.linear_relu_stack = nn.Sequential(\n",
        "        nn.Linear(28*28, 512),\n",
        "        nn.ReLU(),\n",
        "        nn.Linear(512, 512),\n",
        "        nn.ReLU(),\n",
        "        nn.Linear(512, 10),\n",
        "    )\n",
        "  def forward(self,x):\n",
        "    x=self.flatten(x)\n",
        "    logits=self.linear_relu_stack(x)\n",
        "    return logits\n",
        "  \n",
        "model = NeuralNetwork().to(device)\n",
        "print(model)"
      ],
      "execution_count": 85,
      "outputs": [
        {
          "output_type": "stream",
          "name": "stdout",
          "text": [
            "using cpu device\n",
            "NeuralNetwork(\n",
            "  (flatten): Flatten(start_dim=1, end_dim=-1)\n",
            "  (linear_relu_stack): Sequential(\n",
            "    (0): Linear(in_features=784, out_features=512, bias=True)\n",
            "    (1): ReLU()\n",
            "    (2): Linear(in_features=512, out_features=512, bias=True)\n",
            "    (3): ReLU()\n",
            "    (4): Linear(in_features=512, out_features=10, bias=True)\n",
            "  )\n",
            ")\n"
          ]
        }
      ]
    },
    {
      "cell_type": "code",
      "metadata": {
        "colab": {
          "base_uri": "https://localhost:8080/"
        },
        "id": "HSNVYOAupOXe",
        "outputId": "f20d7481-feb2-4fad-da61-f0116b7ac1c8"
      },
      "source": [
        "X = torch.rand(1, 28, 28, device=device)\n",
        "logits = model(X)\n",
        "pred_probab = nn.Softmax(dim=1)(logits)\n",
        "y_pred = pred_probab.argmax(1)\n",
        "print(f\"Predicted class: {y_pred}\")"
      ],
      "execution_count": 86,
      "outputs": [
        {
          "output_type": "stream",
          "name": "stdout",
          "text": [
            "Predicted class: tensor([6])\n"
          ]
        }
      ]
    },
    {
      "cell_type": "code",
      "metadata": {
        "colab": {
          "base_uri": "https://localhost:8080/"
        },
        "id": "NaNtAAlHpfDg",
        "outputId": "5774d4f1-da3e-4204-d343-8abe233d86f4"
      },
      "source": [
        "input_image = torch.rand(3,28,28)\n",
        "print(input_image.size())"
      ],
      "execution_count": 87,
      "outputs": [
        {
          "output_type": "stream",
          "name": "stdout",
          "text": [
            "torch.Size([3, 28, 28])\n"
          ]
        }
      ]
    },
    {
      "cell_type": "code",
      "metadata": {
        "colab": {
          "base_uri": "https://localhost:8080/"
        },
        "id": "Wx6w-x6apjGO",
        "outputId": "41b4c133-d1c0-4539-f2ef-30d68ed4f313"
      },
      "source": [
        "flatten = nn.Flatten() #이미지 펴는 작업\n",
        "flat_image = flatten(input_image)\n",
        "print(flat_image.size())"
      ],
      "execution_count": 88,
      "outputs": [
        {
          "output_type": "stream",
          "name": "stdout",
          "text": [
            "torch.Size([3, 784])\n"
          ]
        }
      ]
    },
    {
      "cell_type": "code",
      "metadata": {
        "colab": {
          "base_uri": "https://localhost:8080/"
        },
        "id": "nS1QIS0upnhr",
        "outputId": "f68f360a-3568-4a67-8a99-4665eea9fa7d"
      },
      "source": [
        "layer1 = nn.Linear(in_features=28*28, out_features=20)\n",
        "hidden1 = layer1(flat_image)\n",
        "print(hidden1.size())"
      ],
      "execution_count": 89,
      "outputs": [
        {
          "output_type": "stream",
          "name": "stdout",
          "text": [
            "torch.Size([3, 20])\n"
          ]
        }
      ]
    },
    {
      "cell_type": "code",
      "metadata": {
        "colab": {
          "base_uri": "https://localhost:8080/"
        },
        "id": "Sow06CbMptCn",
        "outputId": "0172c687-2f51-4a6b-bb39-554c21be1ec9"
      },
      "source": [
        "# 활성함수\n",
        "print(f\"Before ReLU: {hidden1}\\n\\n\")\n",
        "hidden1 = nn.ReLU()(hidden1)\n",
        "print(f\"After ReLU: {hidden1}\")"
      ],
      "execution_count": 90,
      "outputs": [
        {
          "output_type": "stream",
          "name": "stdout",
          "text": [
            "Before ReLU: tensor([[ 0.2769, -0.1755,  0.1162, -0.2517,  0.7439,  0.1862, -0.1313, -0.0953,\n",
            "          0.3406,  0.4089, -0.0471, -0.5181, -0.6907, -0.0126, -0.0047,  0.0434,\n",
            "         -0.5483,  0.5421,  0.2693, -0.5808],\n",
            "        [ 0.1415,  0.0209,  0.1017, -0.3574,  0.6166,  0.3126, -0.1032,  0.2165,\n",
            "          0.3580,  0.1044,  0.0767, -0.2149, -0.3649, -0.1143,  0.2825,  0.0421,\n",
            "         -0.2385,  0.7078,  0.2740, -0.3146],\n",
            "        [ 0.2938,  0.0196, -0.1038, -0.5660,  0.5627,  0.1874, -0.0041, -0.2688,\n",
            "          0.5895, -0.0068,  0.0583, -0.5590, -0.5006, -0.1597,  0.0536, -0.1122,\n",
            "         -0.3367,  0.8923,  0.2304, -0.2985]], grad_fn=<AddmmBackward>)\n",
            "\n",
            "\n",
            "After ReLU: tensor([[0.2769, 0.0000, 0.1162, 0.0000, 0.7439, 0.1862, 0.0000, 0.0000, 0.3406,\n",
            "         0.4089, 0.0000, 0.0000, 0.0000, 0.0000, 0.0000, 0.0434, 0.0000, 0.5421,\n",
            "         0.2693, 0.0000],\n",
            "        [0.1415, 0.0209, 0.1017, 0.0000, 0.6166, 0.3126, 0.0000, 0.2165, 0.3580,\n",
            "         0.1044, 0.0767, 0.0000, 0.0000, 0.0000, 0.2825, 0.0421, 0.0000, 0.7078,\n",
            "         0.2740, 0.0000],\n",
            "        [0.2938, 0.0196, 0.0000, 0.0000, 0.5627, 0.1874, 0.0000, 0.0000, 0.5895,\n",
            "         0.0000, 0.0583, 0.0000, 0.0000, 0.0000, 0.0536, 0.0000, 0.0000, 0.8923,\n",
            "         0.2304, 0.0000]], grad_fn=<ReluBackward0>)\n"
          ]
        }
      ]
    },
    {
      "cell_type": "code",
      "metadata": {
        "id": "gXlaWMSkp3Co"
      },
      "source": [
        "seq_modules = nn.Sequential(\n",
        "    flatten,\n",
        "    layer1,\n",
        "    nn.ReLU(),\n",
        "    nn.Linear(20, 10)\n",
        ")\n",
        "input_image = torch.rand(3,28,28)\n",
        "logits = seq_modules(input_image)"
      ],
      "execution_count": 91,
      "outputs": []
    },
    {
      "cell_type": "code",
      "metadata": {
        "id": "7_4l6ieIp2_o"
      },
      "source": [
        "# softmax로 조정 차원이 1\n",
        "softmax = nn.Softmax(dim=1)\n",
        "pred_probab = softmax(logits)"
      ],
      "execution_count": null,
      "outputs": []
    },
    {
      "cell_type": "code",
      "metadata": {
        "colab": {
          "base_uri": "https://localhost:8080/"
        },
        "id": "_9puTUSbp29J",
        "outputId": "3b257864-4628-4c38-c984-7ef80ff840e0"
      },
      "source": [
        "# parameters() or named_parameters()로 파라메터 계산\n",
        "print(\"Model structure: \", model, \"\\n\\n\")\n",
        "\n",
        "for name, param in model.named_parameters():\n",
        "    print(f\"Layer: {name} | Size: {param.size()} | Values : {param[:2]} \\n\")"
      ],
      "execution_count": 92,
      "outputs": [
        {
          "output_type": "stream",
          "name": "stdout",
          "text": [
            "Model structure:  NeuralNetwork(\n",
            "  (flatten): Flatten(start_dim=1, end_dim=-1)\n",
            "  (linear_relu_stack): Sequential(\n",
            "    (0): Linear(in_features=784, out_features=512, bias=True)\n",
            "    (1): ReLU()\n",
            "    (2): Linear(in_features=512, out_features=512, bias=True)\n",
            "    (3): ReLU()\n",
            "    (4): Linear(in_features=512, out_features=10, bias=True)\n",
            "  )\n",
            ") \n",
            "\n",
            "\n",
            "Layer: linear_relu_stack.0.weight | Size: torch.Size([512, 784]) | Values : tensor([[-0.0265,  0.0073,  0.0055,  ...,  0.0004,  0.0077,  0.0167],\n",
            "        [-0.0328,  0.0163, -0.0059,  ..., -0.0342, -0.0075,  0.0031]],\n",
            "       grad_fn=<SliceBackward>) \n",
            "\n",
            "Layer: linear_relu_stack.0.bias | Size: torch.Size([512]) | Values : tensor([ 0.0155, -0.0133], grad_fn=<SliceBackward>) \n",
            "\n",
            "Layer: linear_relu_stack.2.weight | Size: torch.Size([512, 512]) | Values : tensor([[ 0.0367,  0.0023, -0.0420,  ..., -0.0018,  0.0307, -0.0243],\n",
            "        [-0.0154, -0.0129,  0.0098,  ...,  0.0437,  0.0170,  0.0170]],\n",
            "       grad_fn=<SliceBackward>) \n",
            "\n",
            "Layer: linear_relu_stack.2.bias | Size: torch.Size([512]) | Values : tensor([ 0.0050, -0.0270], grad_fn=<SliceBackward>) \n",
            "\n",
            "Layer: linear_relu_stack.4.weight | Size: torch.Size([10, 512]) | Values : tensor([[ 0.0351,  0.0166, -0.0236,  ..., -0.0320,  0.0209,  0.0191],\n",
            "        [-0.0006,  0.0386, -0.0290,  ..., -0.0194, -0.0350,  0.0018]],\n",
            "       grad_fn=<SliceBackward>) \n",
            "\n",
            "Layer: linear_relu_stack.4.bias | Size: torch.Size([10]) | Values : tensor([ 0.0272, -0.0064], grad_fn=<SliceBackward>) \n",
            "\n"
          ]
        }
      ]
    },
    {
      "cell_type": "markdown",
      "metadata": {
        "id": "8jc3m1H_qbmC"
      },
      "source": [
        "# Troch autograd : backpropa 자동계산"
      ]
    },
    {
      "cell_type": "code",
      "metadata": {
        "id": "ZgwZbKmbqe6t"
      },
      "source": [
        "import torch\n",
        "\n",
        "x = torch.ones(5) \n",
        "y = torch.zeros(3)\n",
        "w = torch.randn(5, 3, requires_grad=True) # requires_grad를 사용하면 compute cost 해줌\n",
        "b = torch.randn(3, requires_grad=True)\n",
        "z = torch.matmul(x, w)+b\n",
        "loss = torch.nn.functional.binary_cross_entropy_with_logits(z, y)"
      ],
      "execution_count": 94,
      "outputs": []
    },
    {
      "cell_type": "code",
      "metadata": {
        "colab": {
          "base_uri": "https://localhost:8080/"
        },
        "id": "S6dwpuOAqe37",
        "outputId": "78ce1c67-5fed-4119-d36f-f081e228d714"
      },
      "source": [
        "print('Gradient function for z =', z.grad_fn)\n",
        "print('Gradient function for loss =', loss.grad_fn)"
      ],
      "execution_count": 95,
      "outputs": [
        {
          "output_type": "stream",
          "name": "stdout",
          "text": [
            "Gradient function for z = <AddBackward0 object at 0x7f5685f3ae50>\n",
            "Gradient function for loss = <BinaryCrossEntropyWithLogitsBackward object at 0x7f5685f3aa90>\n"
          ]
        }
      ]
    },
    {
      "cell_type": "code",
      "metadata": {
        "colab": {
          "base_uri": "https://localhost:8080/"
        },
        "id": "1r7ZPPAaqe1Z",
        "outputId": "bff8a965-3c4f-4958-bd92-abec38edd9ab"
      },
      "source": [
        "loss.backward()\n",
        "print(w.grad)\n",
        "print(b.grad)"
      ],
      "execution_count": 96,
      "outputs": [
        {
          "output_type": "stream",
          "name": "stdout",
          "text": [
            "tensor([[0.2462, 0.3269, 0.0006],\n",
            "        [0.2462, 0.3269, 0.0006],\n",
            "        [0.2462, 0.3269, 0.0006],\n",
            "        [0.2462, 0.3269, 0.0006],\n",
            "        [0.2462, 0.3269, 0.0006]])\n",
            "tensor([0.2462, 0.3269, 0.0006])\n"
          ]
        }
      ]
    },
    {
      "cell_type": "code",
      "metadata": {
        "colab": {
          "base_uri": "https://localhost:8080/"
        },
        "id": "z925y0KLq_jS",
        "outputId": "07a49908-68cf-4d67-f543-51a223be0711"
      },
      "source": [
        "z = torch.matmul(x, w)+b\n",
        "print(z.requires_grad)\n",
        "\n",
        "with torch.no_grad(): #no grad를 사용하면 tracking 안함\n",
        "    z = torch.matmul(x, w)+b\n",
        "print(z.requires_grad)"
      ],
      "execution_count": 97,
      "outputs": [
        {
          "output_type": "stream",
          "name": "stdout",
          "text": [
            "True\n",
            "False\n"
          ]
        }
      ]
    },
    {
      "cell_type": "code",
      "metadata": {
        "colab": {
          "base_uri": "https://localhost:8080/"
        },
        "id": "iYpM4D9Uq_gg",
        "outputId": "62ee7114-e6b3-4a3b-982a-b2c0c300c282"
      },
      "source": [
        "z = torch.matmul(x, w)+b\n",
        "z_det = z.detach() #detach를 사용해도 no_grad와 같은 역할\n",
        "print(z_det.requires_grad)"
      ],
      "execution_count": 98,
      "outputs": [
        {
          "output_type": "stream",
          "name": "stdout",
          "text": [
            "False\n"
          ]
        }
      ]
    },
    {
      "cell_type": "markdown",
      "metadata": {
        "id": "uTJZcMdXrm9D"
      },
      "source": [
        "일부 매개변수를 동결하고 싶을떄(모델 미세 조정)\n",
        "/ 학습시 계산속도를 올리기 위해\n",
        "<br>\n",
        "\n",
        "autograd in forward : 요청한 연산을 실행하여 결과 텐서 계산, a directed acyclic graph에서 작업 유지\n",
        "<br>\n",
        "autograd in backward : 각각의 grad_fn에서 기울기 계산, 각 텐서의 grad 속성에 누적, 체인 규칙으로 리프텐서로 전파"
      ]
    },
    {
      "cell_type": "code",
      "metadata": {
        "colab": {
          "base_uri": "https://localhost:8080/"
        },
        "id": "mxz6ObuKq_d8",
        "outputId": "a972c618-c931-4f24-ec51-befc3d7db4b6"
      },
      "source": [
        "inp = torch.eye(5, requires_grad=True)\n",
        "out = (inp+1).pow(2)\n",
        "out.backward(torch.ones_like(inp), retain_graph=True)\n",
        "print(\"First call\\n\", inp.grad)\n",
        "out.backward(torch.ones_like(inp), retain_graph=True) # backward를 누적한다. \n",
        "print(\"\\nSecond call\\n\", inp.grad)\n",
        "inp.grad.zero_() # backward를 누적하기때문에 속성을 0으로 설정\n",
        "out.backward(torch.ones_like(inp), retain_graph=True)\n",
        "print(\"\\nCall after zeroing gradients\\n\", inp.grad)"
      ],
      "execution_count": 99,
      "outputs": [
        {
          "output_type": "stream",
          "name": "stdout",
          "text": [
            "First call\n",
            " tensor([[4., 2., 2., 2., 2.],\n",
            "        [2., 4., 2., 2., 2.],\n",
            "        [2., 2., 4., 2., 2.],\n",
            "        [2., 2., 2., 4., 2.],\n",
            "        [2., 2., 2., 2., 4.]])\n",
            "\n",
            "Second call\n",
            " tensor([[8., 4., 4., 4., 4.],\n",
            "        [4., 8., 4., 4., 4.],\n",
            "        [4., 4., 8., 4., 4.],\n",
            "        [4., 4., 4., 8., 4.],\n",
            "        [4., 4., 4., 4., 8.]])\n",
            "\n",
            "Call after zeroing gradients\n",
            " tensor([[4., 2., 2., 2., 2.],\n",
            "        [2., 4., 2., 2., 2.],\n",
            "        [2., 2., 4., 2., 2.],\n",
            "        [2., 2., 2., 4., 2.],\n",
            "        [2., 2., 2., 2., 4.]])\n"
          ]
        }
      ]
    },
    {
      "cell_type": "markdown",
      "metadata": {
        "id": "StMn6OgVtWIx"
      },
      "source": [
        "# optimizing model"
      ]
    },
    {
      "cell_type": "code",
      "metadata": {
        "id": "_adQHWQvtkea"
      },
      "source": [
        "import torch\n",
        "from torch import nn\n",
        "from torch.utils.data import DataLoader\n",
        "from torchvision import datasets\n",
        "from torchvision.transforms import ToTensor, Lambda\n",
        "\n",
        "training_data = datasets.FashionMNIST(\n",
        "    root=\"data\",\n",
        "    train=True,\n",
        "    download=True,\n",
        "    transform=ToTensor()\n",
        ")\n",
        "\n",
        "test_data = datasets.FashionMNIST(\n",
        "    root=\"data\",\n",
        "    train=False,\n",
        "    download=True,\n",
        "    transform=ToTensor()\n",
        ")\n",
        "\n",
        "train_dataloader = DataLoader(training_data, batch_size=64)\n",
        "test_dataloader = DataLoader(test_data, batch_size=64)\n",
        "\n",
        "class NeuralNetwork(nn.Module):\n",
        "    def __init__(self):\n",
        "        super(NeuralNetwork, self).__init__()\n",
        "        self.flatten = nn.Flatten()\n",
        "        self.linear_relu_stack = nn.Sequential(\n",
        "            nn.Linear(28*28, 512),\n",
        "            nn.ReLU(),\n",
        "            nn.Linear(512, 512),\n",
        "            nn.ReLU(),\n",
        "            nn.Linear(512, 10),\n",
        "        )\n",
        "\n",
        "    def forward(self, x):\n",
        "        x = self.flatten(x)\n",
        "        logits = self.linear_relu_stack(x)\n",
        "        return logits\n",
        "\n",
        "model = NeuralNetwork()"
      ],
      "execution_count": 100,
      "outputs": []
    },
    {
      "cell_type": "code",
      "metadata": {
        "id": "jf2CxPuitkbo"
      },
      "source": [
        "learning_rate = 1e-3 #학습률\n",
        "batch_size = 64 # 배치\n",
        "epochs = 5 # 학습"
      ],
      "execution_count": 101,
      "outputs": []
    },
    {
      "cell_type": "code",
      "metadata": {
        "id": "VbDd6gQMtkXD"
      },
      "source": [
        "loss_fn = nn.CrossEntropyLoss()\n",
        "optimizer = torch.optim.SGD(model.parameters(), lr=learning_rate)"
      ],
      "execution_count": 103,
      "outputs": []
    },
    {
      "cell_type": "markdown",
      "metadata": {
        "id": "OJ7mOJQlt4MB"
      },
      "source": [
        "최적화 단계 : \n",
        "1. optimizer.zero_grad() : 모델 매개변수의 기울기를 재설정하기위해 호출\n",
        "2. loss.backwards 역전파\n",
        "3. optimizer.step() : 파라메터 조정"
      ]
    },
    {
      "cell_type": "code",
      "metadata": {
        "id": "j3yCG4FhuMaq"
      },
      "source": [
        "def train_loop(dataloader, model, loss_fn, optimizer):\n",
        "    size = len(dataloader.dataset)\n",
        "    for batch, (X, y) in enumerate(dataloader):\n",
        "        pred = model(X)\n",
        "        loss = loss_fn(pred, y)\n",
        "\n",
        "        optimizer.zero_grad() # 가중치 초기화\n",
        "        loss.backward() # 역전파\n",
        "        optimizer.step() # 파라메터 조정\n",
        "\n",
        "        if batch % 100 == 0:\n",
        "            loss, current = loss.item(), batch * len(X)\n",
        "            print(f\"loss: {loss:>7f}  [{current:>5d}/{size:>5d}]\")\n",
        "\n",
        "\n",
        "def test_loop(dataloader, model, loss_fn):\n",
        "    size = len(dataloader.dataset)\n",
        "    num_batches = len(dataloader)\n",
        "    test_loss, correct = 0, 0\n",
        "\n",
        "    with torch.no_grad(): # grad저장 X\n",
        "        for X, y in dataloader:\n",
        "            pred = model(X)\n",
        "            test_loss += loss_fn(pred, y).item()\n",
        "            correct += (pred.argmax(1) == y).type(torch.float).sum().item()\n",
        "\n",
        "    test_loss /= num_batches\n",
        "    correct /= size\n",
        "    print(f\"Test Error: \\n Accuracy: {(100*correct):>0.1f}%, Avg loss: {test_loss:>8f} \\n\")"
      ],
      "execution_count": 104,
      "outputs": []
    },
    {
      "cell_type": "code",
      "metadata": {
        "colab": {
          "base_uri": "https://localhost:8080/"
        },
        "id": "LKoPVAfKuf9Z",
        "outputId": "d7199ae2-4c00-4904-82c4-d107183e0647"
      },
      "source": [
        "loss_fn = nn.CrossEntropyLoss()\n",
        "optimizer = torch.optim.SGD(model.parameters(), lr=learning_rate)\n",
        "\n",
        "epochs = 10\n",
        "for t in range(epochs):\n",
        "    print(f\"Epoch {t+1}\\n-------------------------------\")\n",
        "    train_loop(train_dataloader, model, loss_fn, optimizer)\n",
        "    test_loop(test_dataloader, model, loss_fn)\n",
        "print(\"Done!\")"
      ],
      "execution_count": 105,
      "outputs": [
        {
          "output_type": "stream",
          "name": "stdout",
          "text": [
            "Epoch 1\n",
            "-------------------------------\n",
            "loss: 2.294857  [    0/60000]\n",
            "loss: 2.290400  [ 6400/60000]\n",
            "loss: 2.269941  [12800/60000]\n",
            "loss: 2.268044  [19200/60000]\n",
            "loss: 2.247966  [25600/60000]\n",
            "loss: 2.223686  [32000/60000]\n",
            "loss: 2.224564  [38400/60000]\n",
            "loss: 2.191206  [44800/60000]\n",
            "loss: 2.185450  [51200/60000]\n",
            "loss: 2.172055  [57600/60000]\n",
            "Test Error: \n",
            " Accuracy: 45.6%, Avg loss: 2.153645 \n",
            "\n",
            "Epoch 2\n",
            "-------------------------------\n",
            "loss: 2.160256  [    0/60000]\n",
            "loss: 2.158150  [ 6400/60000]\n",
            "loss: 2.094513  [12800/60000]\n",
            "loss: 2.110878  [19200/60000]\n",
            "loss: 2.061720  [25600/60000]\n",
            "loss: 2.008782  [32000/60000]\n",
            "loss: 2.029730  [38400/60000]\n",
            "loss: 1.951551  [44800/60000]\n",
            "loss: 1.947833  [51200/60000]\n",
            "loss: 1.896343  [57600/60000]\n",
            "Test Error: \n",
            " Accuracy: 56.3%, Avg loss: 1.878362 \n",
            "\n",
            "Epoch 3\n",
            "-------------------------------\n",
            "loss: 1.908004  [    0/60000]\n",
            "loss: 1.891700  [ 6400/60000]\n",
            "loss: 1.758845  [12800/60000]\n",
            "loss: 1.801129  [19200/60000]\n",
            "loss: 1.702408  [25600/60000]\n",
            "loss: 1.649016  [32000/60000]\n",
            "loss: 1.675043  [38400/60000]\n",
            "loss: 1.571507  [44800/60000]\n",
            "loss: 1.590084  [51200/60000]\n",
            "loss: 1.506210  [57600/60000]\n",
            "Test Error: \n",
            " Accuracy: 59.6%, Avg loss: 1.509422 \n",
            "\n",
            "Epoch 4\n",
            "-------------------------------\n",
            "loss: 1.570093  [    0/60000]\n",
            "loss: 1.550831  [ 6400/60000]\n",
            "loss: 1.384233  [12800/60000]\n",
            "loss: 1.466013  [19200/60000]\n",
            "loss: 1.353299  [25600/60000]\n",
            "loss: 1.338839  [32000/60000]\n",
            "loss: 1.367185  [38400/60000]\n",
            "loss: 1.284138  [44800/60000]\n",
            "loss: 1.313310  [51200/60000]\n",
            "loss: 1.234965  [57600/60000]\n",
            "Test Error: \n",
            " Accuracy: 62.5%, Avg loss: 1.248956 \n",
            "\n",
            "Epoch 5\n",
            "-------------------------------\n",
            "loss: 1.319228  [    0/60000]\n",
            "loss: 1.314729  [ 6400/60000]\n",
            "loss: 1.134560  [12800/60000]\n",
            "loss: 1.249653  [19200/60000]\n",
            "loss: 1.130582  [25600/60000]\n",
            "loss: 1.144128  [32000/60000]\n",
            "loss: 1.181511  [38400/60000]\n",
            "loss: 1.109770  [44800/60000]\n",
            "loss: 1.140987  [51200/60000]\n",
            "loss: 1.077428  [57600/60000]\n",
            "Test Error: \n",
            " Accuracy: 64.4%, Avg loss: 1.087773 \n",
            "\n",
            "Epoch 6\n",
            "-------------------------------\n",
            "loss: 1.153881  [    0/60000]\n",
            "loss: 1.166785  [ 6400/60000]\n",
            "loss: 0.970370  [12800/60000]\n",
            "loss: 1.113379  [19200/60000]\n",
            "loss: 0.993958  [25600/60000]\n",
            "loss: 1.012386  [32000/60000]\n",
            "loss: 1.066370  [38400/60000]\n",
            "loss: 0.998212  [44800/60000]\n",
            "loss: 1.027819  [51200/60000]\n",
            "loss: 0.977836  [57600/60000]\n",
            "Test Error: \n",
            " Accuracy: 65.6%, Avg loss: 0.982849 \n",
            "\n",
            "Epoch 7\n",
            "-------------------------------\n",
            "loss: 1.037975  [    0/60000]\n",
            "loss: 1.070004  [ 6400/60000]\n",
            "loss: 0.857049  [12800/60000]\n",
            "loss: 1.022231  [19200/60000]\n",
            "loss: 0.907847  [25600/60000]\n",
            "loss: 0.918385  [32000/60000]\n",
            "loss: 0.990711  [38400/60000]\n",
            "loss: 0.925096  [44800/60000]\n",
            "loss: 0.949326  [51200/60000]\n",
            "loss: 0.911362  [57600/60000]\n",
            "Test Error: \n",
            " Accuracy: 66.9%, Avg loss: 0.911077 \n",
            "\n",
            "Epoch 8\n",
            "-------------------------------\n",
            "loss: 0.951959  [    0/60000]\n",
            "loss: 1.002295  [ 6400/60000]\n",
            "loss: 0.775650  [12800/60000]\n",
            "loss: 0.957732  [19200/60000]\n",
            "loss: 0.850551  [25600/60000]\n",
            "loss: 0.849425  [32000/60000]\n",
            "loss: 0.937986  [38400/60000]\n",
            "loss: 0.875905  [44800/60000]\n",
            "loss: 0.892810  [51200/60000]\n",
            "loss: 0.864003  [57600/60000]\n",
            "Test Error: \n",
            " Accuracy: 68.2%, Avg loss: 0.859606 \n",
            "\n",
            "Epoch 9\n",
            "-------------------------------\n",
            "loss: 0.885924  [    0/60000]\n",
            "loss: 0.951530  [ 6400/60000]\n",
            "loss: 0.715360  [12800/60000]\n",
            "loss: 0.909993  [19200/60000]\n",
            "loss: 0.810223  [25600/60000]\n",
            "loss: 0.797810  [32000/60000]\n",
            "loss: 0.898238  [38400/60000]\n",
            "loss: 0.841368  [44800/60000]\n",
            "loss: 0.850819  [51200/60000]\n",
            "loss: 0.828027  [57600/60000]\n",
            "Test Error: \n",
            " Accuracy: 69.5%, Avg loss: 0.820668 \n",
            "\n",
            "Epoch 10\n",
            "-------------------------------\n",
            "loss: 0.833145  [    0/60000]\n",
            "loss: 0.910815  [ 6400/60000]\n",
            "loss: 0.668762  [12800/60000]\n",
            "loss: 0.873056  [19200/60000]\n",
            "loss: 0.779651  [25600/60000]\n",
            "loss: 0.758036  [32000/60000]\n",
            "loss: 0.866066  [38400/60000]\n",
            "loss: 0.815726  [44800/60000]\n",
            "loss: 0.818368  [51200/60000]\n",
            "loss: 0.799080  [57600/60000]\n",
            "Test Error: \n",
            " Accuracy: 70.9%, Avg loss: 0.789671 \n",
            "\n",
            "Done!\n"
          ]
        }
      ]
    },
    {
      "cell_type": "markdown",
      "metadata": {
        "id": "YTEuvT7nvPH8"
      },
      "source": [
        "# 모델 저장 불러오기"
      ]
    },
    {
      "cell_type": "code",
      "metadata": {
        "id": "-e506xT8vR91"
      },
      "source": [
        "import torch\n",
        "import torch.onnx as onnx\n",
        "import torchvision.models as models"
      ],
      "execution_count": 106,
      "outputs": []
    },
    {
      "cell_type": "code",
      "metadata": {
        "colab": {
          "base_uri": "https://localhost:8080/",
          "height": 66,
          "referenced_widgets": [
            "1a2cf66b39384c1980d6e01ab6becccb",
            "28aff40b42cc432c8d5c1123c0ea50cd",
            "f332f06d95ea40a497c1c5eaace42384",
            "dcc4b9cc55254b689f9f4985618891e9",
            "174fd32522ee437f95fafab1c7495b6e",
            "c27238688c65413cbf39b50cfcf9a09d",
            "165a1c6e41624c70b53aeb4babf133a3",
            "43978015583740ddbcc544e6a8a04074",
            "9505faa32a024c3681a211901bf2a48a",
            "a9484494e53f4814b83b8964179ed98e",
            "33359703e7cf427c9ac56a43d0dc96af"
          ]
        },
        "id": "BJHR3sbHvR7L",
        "outputId": "3398254f-9d8d-4c46-87ee-2ae12bd1b114"
      },
      "source": [
        "model = models.vgg16(pretrained=True)\n",
        "torch.save(model.state_dict(), 'model_weights.pth')"
      ],
      "execution_count": 107,
      "outputs": [
        {
          "output_type": "stream",
          "name": "stderr",
          "text": [
            "Downloading: \"https://download.pytorch.org/models/vgg16-397923af.pth\" to /root/.cache/torch/hub/checkpoints/vgg16-397923af.pth\n"
          ]
        },
        {
          "output_type": "display_data",
          "data": {
            "application/vnd.jupyter.widget-view+json": {
              "model_id": "1a2cf66b39384c1980d6e01ab6becccb",
              "version_minor": 0,
              "version_major": 2
            },
            "text/plain": [
              "  0%|          | 0.00/528M [00:00<?, ?B/s]"
            ]
          },
          "metadata": {}
        }
      ]
    },
    {
      "cell_type": "code",
      "metadata": {
        "colab": {
          "base_uri": "https://localhost:8080/"
        },
        "id": "C3_8YRR6vR4n",
        "outputId": "55bda043-471d-474d-aac2-2f929c359100"
      },
      "source": [
        "model = models.vgg16() \n",
        "model.load_state_dict(torch.load('model_weights.pth'))\n",
        "model.eval()"
      ],
      "execution_count": 108,
      "outputs": [
        {
          "output_type": "execute_result",
          "data": {
            "text/plain": [
              "VGG(\n",
              "  (features): Sequential(\n",
              "    (0): Conv2d(3, 64, kernel_size=(3, 3), stride=(1, 1), padding=(1, 1))\n",
              "    (1): ReLU(inplace=True)\n",
              "    (2): Conv2d(64, 64, kernel_size=(3, 3), stride=(1, 1), padding=(1, 1))\n",
              "    (3): ReLU(inplace=True)\n",
              "    (4): MaxPool2d(kernel_size=2, stride=2, padding=0, dilation=1, ceil_mode=False)\n",
              "    (5): Conv2d(64, 128, kernel_size=(3, 3), stride=(1, 1), padding=(1, 1))\n",
              "    (6): ReLU(inplace=True)\n",
              "    (7): Conv2d(128, 128, kernel_size=(3, 3), stride=(1, 1), padding=(1, 1))\n",
              "    (8): ReLU(inplace=True)\n",
              "    (9): MaxPool2d(kernel_size=2, stride=2, padding=0, dilation=1, ceil_mode=False)\n",
              "    (10): Conv2d(128, 256, kernel_size=(3, 3), stride=(1, 1), padding=(1, 1))\n",
              "    (11): ReLU(inplace=True)\n",
              "    (12): Conv2d(256, 256, kernel_size=(3, 3), stride=(1, 1), padding=(1, 1))\n",
              "    (13): ReLU(inplace=True)\n",
              "    (14): Conv2d(256, 256, kernel_size=(3, 3), stride=(1, 1), padding=(1, 1))\n",
              "    (15): ReLU(inplace=True)\n",
              "    (16): MaxPool2d(kernel_size=2, stride=2, padding=0, dilation=1, ceil_mode=False)\n",
              "    (17): Conv2d(256, 512, kernel_size=(3, 3), stride=(1, 1), padding=(1, 1))\n",
              "    (18): ReLU(inplace=True)\n",
              "    (19): Conv2d(512, 512, kernel_size=(3, 3), stride=(1, 1), padding=(1, 1))\n",
              "    (20): ReLU(inplace=True)\n",
              "    (21): Conv2d(512, 512, kernel_size=(3, 3), stride=(1, 1), padding=(1, 1))\n",
              "    (22): ReLU(inplace=True)\n",
              "    (23): MaxPool2d(kernel_size=2, stride=2, padding=0, dilation=1, ceil_mode=False)\n",
              "    (24): Conv2d(512, 512, kernel_size=(3, 3), stride=(1, 1), padding=(1, 1))\n",
              "    (25): ReLU(inplace=True)\n",
              "    (26): Conv2d(512, 512, kernel_size=(3, 3), stride=(1, 1), padding=(1, 1))\n",
              "    (27): ReLU(inplace=True)\n",
              "    (28): Conv2d(512, 512, kernel_size=(3, 3), stride=(1, 1), padding=(1, 1))\n",
              "    (29): ReLU(inplace=True)\n",
              "    (30): MaxPool2d(kernel_size=2, stride=2, padding=0, dilation=1, ceil_mode=False)\n",
              "  )\n",
              "  (avgpool): AdaptiveAvgPool2d(output_size=(7, 7))\n",
              "  (classifier): Sequential(\n",
              "    (0): Linear(in_features=25088, out_features=4096, bias=True)\n",
              "    (1): ReLU(inplace=True)\n",
              "    (2): Dropout(p=0.5, inplace=False)\n",
              "    (3): Linear(in_features=4096, out_features=4096, bias=True)\n",
              "    (4): ReLU(inplace=True)\n",
              "    (5): Dropout(p=0.5, inplace=False)\n",
              "    (6): Linear(in_features=4096, out_features=1000, bias=True)\n",
              "  )\n",
              ")"
            ]
          },
          "metadata": {},
          "execution_count": 108
        }
      ]
    },
    {
      "cell_type": "markdown",
      "metadata": {
        "id": "42XpFNvIvn56"
      },
      "source": [
        "model.eval의 경우는 dropout, batch normalization 사용불가"
      ]
    },
    {
      "cell_type": "code",
      "metadata": {
        "id": "Gj7_5U4rvuQk"
      },
      "source": [
        "torch.save(model, 'model.pth')\n",
        "model = torch.load('model.pth')\n"
      ],
      "execution_count": 109,
      "outputs": []
    },
    {
      "cell_type": "code",
      "metadata": {
        "colab": {
          "base_uri": "https://localhost:8080/"
        },
        "id": "ZFRFFQWYvygg",
        "outputId": "a5c0eea1-441a-4cfc-9cd1-9797043d1922"
      },
      "source": [
        "input_image = torch.zeros((1,3,224,224))\n",
        "onnx.export(model, input_image, 'model.onnx')"
      ],
      "execution_count": 110,
      "outputs": [
        {
          "output_type": "stream",
          "name": "stderr",
          "text": [
            "/usr/local/lib/python3.7/dist-packages/torch/nn/functional.py:718: UserWarning: Named tensors and all their associated APIs are an experimental feature and subject to change. Please do not use them for anything important until they are released as stable. (Triggered internally at  /pytorch/c10/core/TensorImpl.h:1156.)\n",
            "  return torch.max_pool2d(input, kernel_size, stride, padding, dilation, ceil_mode)\n"
          ]
        }
      ]
    }
  ]
}