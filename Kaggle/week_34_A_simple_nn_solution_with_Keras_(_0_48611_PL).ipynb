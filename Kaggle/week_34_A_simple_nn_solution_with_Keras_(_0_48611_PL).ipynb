{
  "nbformat": 4,
  "nbformat_minor": 0,
  "metadata": {
    "colab": {
      "name": "week_34_A simple_nn_solution_with_Keras_(~0.48611 PL).ipynb",
      "provenance": [],
      "collapsed_sections": []
    },
    "kernelspec": {
      "name": "python3",
      "display_name": "Python 3"
    },
    "language_info": {
      "name": "python"
    },
    "accelerator": "GPU"
  },
  "cells": [
    {
      "cell_type": "markdown",
      "metadata": {
        "id": "TDVL4Tg2Mpt7"
      },
      "source": [
        "## 사용자의 리뷰, 제품 카테고리의 자세함 설명, 브랜드 네임, 아이템 상태에 따라 제품의 올바른 가격을 제안하는 것이 목표"
      ]
    },
    {
      "cell_type": "code",
      "metadata": {
        "colab": {
          "resources": {
            "http://localhost:8080/nbextensions/google.colab/files.js": {
              "data": "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",
              "ok": true,
              "headers": [
                [
                  "content-type",
                  "application/javascript"
                ]
              ],
              "status": 200,
              "status_text": ""
            }
          },
          "base_uri": "https://localhost:8080/",
          "height": 254
        },
        "id": "o8RfbElu5O2p",
        "outputId": "f7a20550-5f89-47d8-af46-382646c6e0ef"
      },
      "source": [
        "!pip install kaggle\n",
        "from google.colab import files\n",
        "files.upload()"
      ],
      "execution_count": 25,
      "outputs": [
        {
          "output_type": "stream",
          "name": "stdout",
          "text": [
            "Requirement already satisfied: kaggle in /usr/local/lib/python3.7/dist-packages (1.5.12)\n",
            "Requirement already satisfied: python-dateutil in /usr/local/lib/python3.7/dist-packages (from kaggle) (2.8.2)\n",
            "Requirement already satisfied: requests in /usr/local/lib/python3.7/dist-packages (from kaggle) (2.23.0)\n",
            "Requirement already satisfied: six>=1.10 in /usr/local/lib/python3.7/dist-packages (from kaggle) (1.15.0)\n",
            "Requirement already satisfied: python-slugify in /usr/local/lib/python3.7/dist-packages (from kaggle) (5.0.2)\n",
            "Requirement already satisfied: tqdm in /usr/local/lib/python3.7/dist-packages (from kaggle) (4.62.3)\n",
            "Requirement already satisfied: certifi in /usr/local/lib/python3.7/dist-packages (from kaggle) (2021.10.8)\n",
            "Requirement already satisfied: urllib3 in /usr/local/lib/python3.7/dist-packages (from kaggle) (1.24.3)\n",
            "Requirement already satisfied: text-unidecode>=1.3 in /usr/local/lib/python3.7/dist-packages (from python-slugify->kaggle) (1.3)\n",
            "Requirement already satisfied: idna<3,>=2.5 in /usr/local/lib/python3.7/dist-packages (from requests->kaggle) (2.10)\n",
            "Requirement already satisfied: chardet<4,>=3.0.2 in /usr/local/lib/python3.7/dist-packages (from requests->kaggle) (3.0.4)\n"
          ]
        },
        {
          "output_type": "display_data",
          "data": {
            "text/html": [
              "\n",
              "     <input type=\"file\" id=\"files-3a509b65-e1c5-4eb4-8bd5-907924db43b4\" name=\"files[]\" multiple disabled\n",
              "        style=\"border:none\" />\n",
              "     <output id=\"result-3a509b65-e1c5-4eb4-8bd5-907924db43b4\">\n",
              "      Upload widget is only available when the cell has been executed in the\n",
              "      current browser session. Please rerun this cell to enable.\n",
              "      </output>\n",
              "      <script src=\"/nbextensions/google.colab/files.js\"></script> "
            ],
            "text/plain": [
              "<IPython.core.display.HTML object>"
            ]
          },
          "metadata": {}
        },
        {
          "output_type": "execute_result",
          "data": {
            "text/plain": [
              "{}"
            ]
          },
          "metadata": {},
          "execution_count": 25
        }
      ]
    },
    {
      "cell_type": "code",
      "metadata": {
        "id": "rUVF1FBQftND"
      },
      "source": [
        "# import os \n",
        "# os.getcwd()\n",
        "# os.chdir(\"/content/drive/MyDrive/kaggle_code/\")"
      ],
      "execution_count": 26,
      "outputs": []
    },
    {
      "cell_type": "code",
      "metadata": {
        "id": "DzATbu--6HTW",
        "colab": {
          "base_uri": "https://localhost:8080/"
        },
        "outputId": "5660a705-aa17-46a3-e7e7-173fbe08882c"
      },
      "source": [
        "from google.colab import drive\n",
        "drive.mount('/content/drive')"
      ],
      "execution_count": 27,
      "outputs": [
        {
          "output_type": "stream",
          "name": "stdout",
          "text": [
            "Drive already mounted at /content/drive; to attempt to forcibly remount, call drive.mount(\"/content/drive\", force_remount=True).\n"
          ]
        }
      ]
    },
    {
      "cell_type": "code",
      "metadata": {
        "id": "5C1MldTnnOSJ"
      },
      "source": [
        "# !mkdir -p ~/.kaggle\n",
        "# !cp kaggle.json ~/.kaggle/\n",
        "# # Permission Warning 이 일어나지 않도록 \n",
        "# !chmod 600 ~/.kaggle/kaggle.json\n",
        "# # 본인이 참가한 모든 대회 보기 \n",
        "# !kaggle competitions list\n",
        "# ! kaggle competitions download -c mercari-price-suggestion-challenge\n",
        "# import os \n",
        "# os.getcwd()\n",
        "# os.chdir(\"/content/drive/MyDrive/kaggle_code/\")"
      ],
      "execution_count": 28,
      "outputs": []
    },
    {
      "cell_type": "code",
      "metadata": {
        "id": "Fb0x_9bc7D6K",
        "colab": {
          "base_uri": "https://localhost:8080/"
        },
        "outputId": "6bf20f61-a5fd-4472-8c98-2c0d6eda6d6b"
      },
      "source": [
        "import numpy as np\n",
        "import pandas as pd\n",
        "\n",
        "from sklearn.preprocessing import LabelEncoder, MinMaxScaler, StandardScaler\n",
        "from sklearn.model_selection import train_test_split\n",
        "import matplotlib.pyplot as plt\n",
        "%matplotlib inline \n",
        "\n",
        "import math\n",
        "\n",
        "\n",
        "from subprocess import check_output\n",
        "print(check_output([\"ls\", \"/content/drive/MyDrive/kaggle_code/week_34\"]).decode(\"utf8\"))"
      ],
      "execution_count": 29,
      "outputs": [
        {
          "output_type": "stream",
          "name": "stdout",
          "text": [
            "sample_submission.csv.7z\n",
            "sample_submission_stg2.csv.zip\n",
            "test (1).tsv\n",
            "test_stg2.tsv\n",
            "test_stg2.tsv.zip\n",
            "test.tsv\n",
            "test.tsv.7z\n",
            "train.tsv\n",
            "train.tsv.7z\n",
            "\n"
          ]
        }
      ]
    },
    {
      "cell_type": "code",
      "metadata": {
        "id": "mUCOHVEu7cXH"
      },
      "source": [
        "def rmsle(y, y_pred):\n",
        "    assert len(y) == len(y_pred)\n",
        "    to_sum = [(math.log(y_pred[i] + 1) - math.log(y[i] + 1)) ** 2.0 for i,pred in enumerate(y_pred)]\n",
        "    return (sum(to_sum) * (1.0/len(y))) ** 0.5"
      ],
      "execution_count": 30,
      "outputs": []
    },
    {
      "cell_type": "code",
      "metadata": {
        "id": "cG00BpWs7cUV",
        "colab": {
          "base_uri": "https://localhost:8080/"
        },
        "outputId": "d128c380-68b3-4cd7-ef8f-09f0da03434f"
      },
      "source": [
        "# 데이터 불러오기\n",
        "print(\"Loading data...\")\n",
        "train = pd.read_table(\"/content/drive/MyDrive/kaggle_code/week_34/train.tsv\")\n",
        "test = pd.read_table(\"/content/drive/MyDrive/kaggle_code/week_34/test.tsv\")\n",
        "print(train.shape)\n",
        "print(test.shape)"
      ],
      "execution_count": 31,
      "outputs": [
        {
          "output_type": "stream",
          "name": "stdout",
          "text": [
            "Loading data...\n",
            "(1482535, 8)\n",
            "(693359, 7)\n"
          ]
        }
      ]
    },
    {
      "cell_type": "markdown",
      "metadata": {
        "id": "4ArfVVt69f0s"
      },
      "source": [
        "# 결측치 처리"
      ]
    },
    {
      "cell_type": "code",
      "metadata": {
        "id": "hTc6a78H9iJC",
        "colab": {
          "base_uri": "https://localhost:8080/"
        },
        "outputId": "fe94b01d-05df-48e5-9a4b-15973773cfe5"
      },
      "source": [
        "print(\"Handling missing values...\")\n",
        "def handle_missing(dataset):\n",
        "    dataset.category_name.fillna(value=\"missing\", inplace=True) # 결측치를 misssing으로 처리\n",
        "    dataset.brand_name.fillna(value=\"missing\", inplace=True)\n",
        "    dataset.item_description.fillna(value=\"missing\", inplace=True)\n",
        "    return (dataset)\n",
        "\n",
        "train = handle_missing(train)\n",
        "test = handle_missing(test)\n",
        "print(train.shape)\n",
        "print(test.shape)"
      ],
      "execution_count": 32,
      "outputs": [
        {
          "output_type": "stream",
          "name": "stdout",
          "text": [
            "Handling missing values...\n",
            "(1482535, 8)\n",
            "(693359, 7)\n"
          ]
        }
      ]
    },
    {
      "cell_type": "code",
      "metadata": {
        "id": "YWxziv0D9iGJ",
        "colab": {
          "base_uri": "https://localhost:8080/",
          "height": 158
        },
        "outputId": "51408c15-2e38-4dd2-caad-4c8db03986a9"
      },
      "source": [
        "print(\"Handling categorical variables...\")\n",
        "le = LabelEncoder()\n",
        "\n",
        "le.fit(np.hstack([train.category_name, test.category_name])) # 배열을 옆으로 붙이는것\n",
        "train.category_name = le.transform(train.category_name)\n",
        "test.category_name = le.transform(test.category_name)\n",
        "\n",
        "le.fit(np.hstack([train.brand_name, test.brand_name]))\n",
        "train.brand_name = le.transform(train.brand_name)\n",
        "test.brand_name = le.transform(test.brand_name)\n",
        "del le\n",
        "\n",
        "train.head(3)"
      ],
      "execution_count": 33,
      "outputs": [
        {
          "output_type": "stream",
          "name": "stdout",
          "text": [
            "Handling categorical variables...\n"
          ]
        },
        {
          "output_type": "execute_result",
          "data": {
            "text/html": [
              "<div>\n",
              "<style scoped>\n",
              "    .dataframe tbody tr th:only-of-type {\n",
              "        vertical-align: middle;\n",
              "    }\n",
              "\n",
              "    .dataframe tbody tr th {\n",
              "        vertical-align: top;\n",
              "    }\n",
              "\n",
              "    .dataframe thead th {\n",
              "        text-align: right;\n",
              "    }\n",
              "</style>\n",
              "<table border=\"1\" class=\"dataframe\">\n",
              "  <thead>\n",
              "    <tr style=\"text-align: right;\">\n",
              "      <th></th>\n",
              "      <th>train_id</th>\n",
              "      <th>name</th>\n",
              "      <th>item_condition_id</th>\n",
              "      <th>category_name</th>\n",
              "      <th>brand_name</th>\n",
              "      <th>price</th>\n",
              "      <th>shipping</th>\n",
              "      <th>item_description</th>\n",
              "    </tr>\n",
              "  </thead>\n",
              "  <tbody>\n",
              "    <tr>\n",
              "      <th>0</th>\n",
              "      <td>0</td>\n",
              "      <td>MLB Cincinnati Reds T Shirt Size XL</td>\n",
              "      <td>3</td>\n",
              "      <td>829</td>\n",
              "      <td>5265</td>\n",
              "      <td>10.0</td>\n",
              "      <td>1</td>\n",
              "      <td>No description yet</td>\n",
              "    </tr>\n",
              "    <tr>\n",
              "      <th>1</th>\n",
              "      <td>1</td>\n",
              "      <td>Razer BlackWidow Chroma Keyboard</td>\n",
              "      <td>3</td>\n",
              "      <td>86</td>\n",
              "      <td>3889</td>\n",
              "      <td>52.0</td>\n",
              "      <td>0</td>\n",
              "      <td>This keyboard is in great condition and works ...</td>\n",
              "    </tr>\n",
              "    <tr>\n",
              "      <th>2</th>\n",
              "      <td>2</td>\n",
              "      <td>AVA-VIV Blouse</td>\n",
              "      <td>1</td>\n",
              "      <td>1277</td>\n",
              "      <td>4588</td>\n",
              "      <td>10.0</td>\n",
              "      <td>1</td>\n",
              "      <td>Adorable top with a hint of lace and a key hol...</td>\n",
              "    </tr>\n",
              "  </tbody>\n",
              "</table>\n",
              "</div>"
            ],
            "text/plain": [
              "   train_id  ...                                   item_description\n",
              "0         0  ...                                 No description yet\n",
              "1         1  ...  This keyboard is in great condition and works ...\n",
              "2         2  ...  Adorable top with a hint of lace and a key hol...\n",
              "\n",
              "[3 rows x 8 columns]"
            ]
          },
          "metadata": {},
          "execution_count": 33
        }
      ]
    },
    {
      "cell_type": "code",
      "metadata": {
        "colab": {
          "base_uri": "https://localhost:8080/"
        },
        "id": "JGmFO-JX-t_K",
        "outputId": "622f6b09-35a2-49a8-b607-10f9cb289392"
      },
      "source": [
        "len(raw_text) "
      ],
      "execution_count": 34,
      "outputs": [
        {
          "output_type": "execute_result",
          "data": {
            "text/plain": [
              "2965070"
            ]
          },
          "metadata": {},
          "execution_count": 34
        }
      ]
    },
    {
      "cell_type": "code",
      "metadata": {
        "colab": {
          "base_uri": "https://localhost:8080/"
        },
        "id": "2kcUg5K__qBx",
        "outputId": "06232a76-980d-42d1-ff57-6e5f33d549b0"
      },
      "source": [
        "len(train.item_description.str.lower())"
      ],
      "execution_count": 35,
      "outputs": [
        {
          "output_type": "execute_result",
          "data": {
            "text/plain": [
              "1482535"
            ]
          },
          "metadata": {},
          "execution_count": 35
        }
      ]
    },
    {
      "cell_type": "code",
      "metadata": {
        "colab": {
          "base_uri": "https://localhost:8080/"
        },
        "id": "E4UrFx_u_ceL",
        "outputId": "ff2fad06-ce48-431e-8754-71df86a531a1"
      },
      "source": [
        "len(train.name.str.lower())"
      ],
      "execution_count": 36,
      "outputs": [
        {
          "output_type": "execute_result",
          "data": {
            "text/plain": [
              "1482535"
            ]
          },
          "metadata": {},
          "execution_count": 36
        }
      ]
    },
    {
      "cell_type": "code",
      "metadata": {
        "id": "BvBsnoqG9h-z",
        "colab": {
          "base_uri": "https://localhost:8080/",
          "height": 244
        },
        "outputId": "9f9e3d11-0044-474a-dd6a-a1e6c905467f"
      },
      "source": [
        "print(\"Text to seq process...\")\n",
        "from keras.preprocessing.text import Tokenizer\n",
        "raw_text = np.hstack([train.item_description.str.lower(), train.name.str.lower()]) # 소문자로 변경 및 붙이기\n",
        "\n",
        "print(\"   Fitting tokenizer...\")\n",
        "tok_raw = Tokenizer() # 토크나이저\n",
        "tok_raw.fit_on_texts(raw_text) # 문자 데이터를 입력받아서 리스트의 형태로 변환한.\n",
        "print(\"   Transforming text to seq...\")\n",
        "\n",
        "train[\"seq_item_description\"] = tok_raw.texts_to_sequences(train.item_description.str.lower()) #메서드는 텍스트 안의 단어들을 숫자의 시퀀스의 형태로 변환한다\n",
        "test[\"seq_item_description\"] = tok_raw.texts_to_sequences(test.item_description.str.lower()) # 아이템 설명을 시퀀스 형태로\n",
        "train[\"seq_name\"] = tok_raw.texts_to_sequences(train.name.str.lower()) # 아이템 이름을 시퀀스 형태로\n",
        "test[\"seq_name\"] = tok_raw.texts_to_sequences(test.name.str.lower())\n",
        "train.head(3)"
      ],
      "execution_count": 37,
      "outputs": [
        {
          "output_type": "stream",
          "name": "stdout",
          "text": [
            "Text to seq process...\n",
            "   Fitting tokenizer...\n",
            "   Transforming text to seq...\n"
          ]
        },
        {
          "output_type": "execute_result",
          "data": {
            "text/html": [
              "<div>\n",
              "<style scoped>\n",
              "    .dataframe tbody tr th:only-of-type {\n",
              "        vertical-align: middle;\n",
              "    }\n",
              "\n",
              "    .dataframe tbody tr th {\n",
              "        vertical-align: top;\n",
              "    }\n",
              "\n",
              "    .dataframe thead th {\n",
              "        text-align: right;\n",
              "    }\n",
              "</style>\n",
              "<table border=\"1\" class=\"dataframe\">\n",
              "  <thead>\n",
              "    <tr style=\"text-align: right;\">\n",
              "      <th></th>\n",
              "      <th>train_id</th>\n",
              "      <th>name</th>\n",
              "      <th>item_condition_id</th>\n",
              "      <th>category_name</th>\n",
              "      <th>brand_name</th>\n",
              "      <th>price</th>\n",
              "      <th>shipping</th>\n",
              "      <th>item_description</th>\n",
              "      <th>seq_item_description</th>\n",
              "      <th>seq_name</th>\n",
              "    </tr>\n",
              "  </thead>\n",
              "  <tbody>\n",
              "    <tr>\n",
              "      <th>0</th>\n",
              "      <td>0</td>\n",
              "      <td>MLB Cincinnati Reds T Shirt Size XL</td>\n",
              "      <td>3</td>\n",
              "      <td>829</td>\n",
              "      <td>5265</td>\n",
              "      <td>10.0</td>\n",
              "      <td>1</td>\n",
              "      <td>No description yet</td>\n",
              "      <td>[12, 68, 79]</td>\n",
              "      <td>[3852, 8823, 6896, 208, 84, 6, 155]</td>\n",
              "    </tr>\n",
              "    <tr>\n",
              "      <th>1</th>\n",
              "      <td>1</td>\n",
              "      <td>Razer BlackWidow Chroma Keyboard</td>\n",
              "      <td>3</td>\n",
              "      <td>86</td>\n",
              "      <td>3889</td>\n",
              "      <td>52.0</td>\n",
              "      <td>0</td>\n",
              "      <td>This keyboard is in great condition and works ...</td>\n",
              "      <td>[29, 2627, 10, 7, 39, 17, 1, 207, 51, 19, 1113...</td>\n",
              "      <td>[10760, 25565, 16369, 2627]</td>\n",
              "    </tr>\n",
              "    <tr>\n",
              "      <th>2</th>\n",
              "      <td>2</td>\n",
              "      <td>AVA-VIV Blouse</td>\n",
              "      <td>1</td>\n",
              "      <td>1277</td>\n",
              "      <td>4588</td>\n",
              "      <td>10.0</td>\n",
              "      <td>1</td>\n",
              "      <td>Adorable top with a hint of lace and a key hol...</td>\n",
              "      <td>[604, 60, 9, 4, 5347, 11, 192, 1, 4, 886, 1290...</td>\n",
              "      <td>[7634, 10563, 666]</td>\n",
              "    </tr>\n",
              "  </tbody>\n",
              "</table>\n",
              "</div>"
            ],
            "text/plain": [
              "   train_id  ...                             seq_name\n",
              "0         0  ...  [3852, 8823, 6896, 208, 84, 6, 155]\n",
              "1         1  ...          [10760, 25565, 16369, 2627]\n",
              "2         2  ...                   [7634, 10563, 666]\n",
              "\n",
              "[3 rows x 10 columns]"
            ]
          },
          "metadata": {},
          "execution_count": 37
        }
      ]
    },
    {
      "cell_type": "code",
      "metadata": {
        "id": "ccMkuGST9hxx",
        "colab": {
          "base_uri": "https://localhost:8080/"
        },
        "outputId": "12f9528a-5904-4e7b-cd23-b3069b0ae82b"
      },
      "source": [
        "# 시퀀스 변수 분석 - 길이\n",
        "max_name_seq = np.max([np.max(train.seq_name.apply(lambda x:len(x))), np.max(test.seq_name.apply(lambda x : len(x)))])\n",
        "max_seq_item_description = np.max([np.max(train.seq_item_description.apply(lambda x: len(x)))\n",
        "                                   , np.max(test.seq_item_description.apply(lambda x: len(x)))])\n",
        "print(\"max name seq \"+str(max_name_seq))\n",
        "print(\"max item desc seq \"+str(max_seq_item_description))"
      ],
      "execution_count": 38,
      "outputs": [
        {
          "output_type": "stream",
          "name": "stdout",
          "text": [
            "max name seq 17\n",
            "max item desc seq 269\n"
          ]
        }
      ]
    },
    {
      "cell_type": "code",
      "metadata": {
        "id": "bEc9_DR2Dt2L",
        "colab": {
          "base_uri": "https://localhost:8080/",
          "height": 282
        },
        "outputId": "cbe90e73-cf2c-4887-da0e-a0f7031636b0"
      },
      "source": [
        "train.seq_name.apply(lambda x:len(x)).hist()"
      ],
      "execution_count": 39,
      "outputs": [
        {
          "output_type": "execute_result",
          "data": {
            "text/plain": [
              "<matplotlib.axes._subplots.AxesSubplot at 0x7ff65109a3d0>"
            ]
          },
          "metadata": {},
          "execution_count": 39
        },
        {
          "output_type": "display_data",
          "data": {
            "image/png": "[encoded data removed]",
            "text/plain": [
              "<Figure size 432x288 with 1 Axes>"
            ]
          },
          "metadata": {
            "needs_background": "light"
          }
        }
      ]
    },
    {
      "cell_type": "code",
      "metadata": {
        "colab": {
          "base_uri": "https://localhost:8080/",
          "height": 564
        },
        "id": "2jcvD6lYBXAW",
        "outputId": "16188e1b-64ff-4686-bc58-5a15df98c909"
      },
      "source": [
        "train"
      ],
      "execution_count": 42,
      "outputs": [
        {
          "output_type": "execute_result",
          "data": {
            "text/html": [
              "<div>\n",
              "<style scoped>\n",
              "    .dataframe tbody tr th:only-of-type {\n",
              "        vertical-align: middle;\n",
              "    }\n",
              "\n",
              "    .dataframe tbody tr th {\n",
              "        vertical-align: top;\n",
              "    }\n",
              "\n",
              "    .dataframe thead th {\n",
              "        text-align: right;\n",
              "    }\n",
              "</style>\n",
              "<table border=\"1\" class=\"dataframe\">\n",
              "  <thead>\n",
              "    <tr style=\"text-align: right;\">\n",
              "      <th></th>\n",
              "      <th>train_id</th>\n",
              "      <th>name</th>\n",
              "      <th>item_condition_id</th>\n",
              "      <th>category_name</th>\n",
              "      <th>brand_name</th>\n",
              "      <th>price</th>\n",
              "      <th>shipping</th>\n",
              "      <th>item_description</th>\n",
              "      <th>seq_item_description</th>\n",
              "      <th>seq_name</th>\n",
              "    </tr>\n",
              "  </thead>\n",
              "  <tbody>\n",
              "    <tr>\n",
              "      <th>0</th>\n",
              "      <td>0</td>\n",
              "      <td>MLB Cincinnati Reds T Shirt Size XL</td>\n",
              "      <td>3</td>\n",
              "      <td>829</td>\n",
              "      <td>5265</td>\n",
              "      <td>10.0</td>\n",
              "      <td>1</td>\n",
              "      <td>No description yet</td>\n",
              "      <td>[12, 68, 79]</td>\n",
              "      <td>[3852, 8823, 6896, 208, 84, 6, 155]</td>\n",
              "    </tr>\n",
              "    <tr>\n",
              "      <th>1</th>\n",
              "      <td>1</td>\n",
              "      <td>Razer BlackWidow Chroma Keyboard</td>\n",
              "      <td>3</td>\n",
              "      <td>86</td>\n",
              "      <td>3889</td>\n",
              "      <td>52.0</td>\n",
              "      <td>0</td>\n",
              "      <td>This keyboard is in great condition and works ...</td>\n",
              "      <td>[29, 2627, 10, 7, 39, 17, 1, 207, 51, 19, 1113...</td>\n",
              "      <td>[10760, 25565, 16369, 2627]</td>\n",
              "    </tr>\n",
              "    <tr>\n",
              "      <th>2</th>\n",
              "      <td>2</td>\n",
              "      <td>AVA-VIV Blouse</td>\n",
              "      <td>1</td>\n",
              "      <td>1277</td>\n",
              "      <td>4588</td>\n",
              "      <td>10.0</td>\n",
              "      <td>1</td>\n",
              "      <td>Adorable top with a hint of lace and a key hol...</td>\n",
              "      <td>[604, 60, 9, 4, 5347, 11, 192, 1, 4, 886, 1290...</td>\n",
              "      <td>[7634, 10563, 666]</td>\n",
              "    </tr>\n",
              "    <tr>\n",
              "      <th>3</th>\n",
              "      <td>3</td>\n",
              "      <td>Leather Horse Statues</td>\n",
              "      <td>1</td>\n",
              "      <td>503</td>\n",
              "      <td>5265</td>\n",
              "      <td>35.0</td>\n",
              "      <td>1</td>\n",
              "      <td>New with tags. Leather horses. Retail for [rm]...</td>\n",
              "      <td>[5, 9, 61, 178, 6528, 230, 3, 21, 166, 1085, 2...</td>\n",
              "      <td>[178, 2610, 14248]</td>\n",
              "    </tr>\n",
              "    <tr>\n",
              "      <th>4</th>\n",
              "      <td>4</td>\n",
              "      <td>24K GOLD plated rose</td>\n",
              "      <td>1</td>\n",
              "      <td>1204</td>\n",
              "      <td>5265</td>\n",
              "      <td>44.0</td>\n",
              "      <td>0</td>\n",
              "      <td>Complete with certificate of authenticity</td>\n",
              "      <td>[807, 9, 6888, 11, 1997]</td>\n",
              "      <td>[4884, 104, 1032, 280]</td>\n",
              "    </tr>\n",
              "    <tr>\n",
              "      <th>...</th>\n",
              "      <td>...</td>\n",
              "      <td>...</td>\n",
              "      <td>...</td>\n",
              "      <td>...</td>\n",
              "      <td>...</td>\n",
              "      <td>...</td>\n",
              "      <td>...</td>\n",
              "      <td>...</td>\n",
              "      <td>...</td>\n",
              "      <td>...</td>\n",
              "    </tr>\n",
              "    <tr>\n",
              "      <th>1482530</th>\n",
              "      <td>1482530</td>\n",
              "      <td>Free People Inspired Dress</td>\n",
              "      <td>2</td>\n",
              "      <td>1188</td>\n",
              "      <td>1792</td>\n",
              "      <td>20.0</td>\n",
              "      <td>1</td>\n",
              "      <td>Lace, says size small but fits medium perfectl...</td>\n",
              "      <td>[192, 690, 6, 44, 38, 160, 69, 710, 165, 36, 3...</td>\n",
              "      <td>[13, 573, 1667, 82]</td>\n",
              "    </tr>\n",
              "    <tr>\n",
              "      <th>1482531</th>\n",
              "      <td>1482531</td>\n",
              "      <td>Little mermaid handmade dress</td>\n",
              "      <td>2</td>\n",
              "      <td>651</td>\n",
              "      <td>1379</td>\n",
              "      <td>14.0</td>\n",
              "      <td>0</td>\n",
              "      <td>Little mermaid handmade dress never worn size 2t</td>\n",
              "      <td>[156, 1321, 693, 82, 36, 30, 6, 1000]</td>\n",
              "      <td>[156, 1321, 693, 82]</td>\n",
              "    </tr>\n",
              "    <tr>\n",
              "      <th>1482532</th>\n",
              "      <td>1482532</td>\n",
              "      <td>21 day fix containers and eating plan</td>\n",
              "      <td>2</td>\n",
              "      <td>916</td>\n",
              "      <td>5265</td>\n",
              "      <td>12.0</td>\n",
              "      <td>0</td>\n",
              "      <td>Used once or twice, still in great shape.</td>\n",
              "      <td>[31, 96, 23, 356, 121, 7, 39, 385]</td>\n",
              "      <td>[293, 117, 1526, 2496, 1, 6764, 3693]</td>\n",
              "    </tr>\n",
              "    <tr>\n",
              "      <th>1482533</th>\n",
              "      <td>1482533</td>\n",
              "      <td>World markets lanterns</td>\n",
              "      <td>3</td>\n",
              "      <td>503</td>\n",
              "      <td>5265</td>\n",
              "      <td>45.0</td>\n",
              "      <td>1</td>\n",
              "      <td>There is 2 of each one that you see! So 2 red ...</td>\n",
              "      <td>[240, 10, 22, 11, 166, 46, 78, 18, 138, 76, 22...</td>\n",
              "      <td>[1370, 21306, 11181]</td>\n",
              "    </tr>\n",
              "    <tr>\n",
              "      <th>1482534</th>\n",
              "      <td>1482534</td>\n",
              "      <td>Brand new lux de ville wallet</td>\n",
              "      <td>1</td>\n",
              "      <td>1299</td>\n",
              "      <td>5265</td>\n",
              "      <td>22.0</td>\n",
              "      <td>0</td>\n",
              "      <td>New with tag, red with sparkle. Firm price, no...</td>\n",
              "      <td>[5, 9, 188, 118, 9, 1619, 74, 41, 12, 13, 20]</td>\n",
              "      <td>[16, 5, 8340, 1195, 31017, 298]</td>\n",
              "    </tr>\n",
              "  </tbody>\n",
              "</table>\n",
              "<p>1482535 rows × 10 columns</p>\n",
              "</div>"
            ],
            "text/plain": [
              "         train_id  ...                               seq_name\n",
              "0               0  ...    [3852, 8823, 6896, 208, 84, 6, 155]\n",
              "1               1  ...            [10760, 25565, 16369, 2627]\n",
              "2               2  ...                     [7634, 10563, 666]\n",
              "3               3  ...                     [178, 2610, 14248]\n",
              "4               4  ...                 [4884, 104, 1032, 280]\n",
              "...           ...  ...                                    ...\n",
              "1482530   1482530  ...                    [13, 573, 1667, 82]\n",
              "1482531   1482531  ...                   [156, 1321, 693, 82]\n",
              "1482532   1482532  ...  [293, 117, 1526, 2496, 1, 6764, 3693]\n",
              "1482533   1482533  ...                   [1370, 21306, 11181]\n",
              "1482534   1482534  ...        [16, 5, 8340, 1195, 31017, 298]\n",
              "\n",
              "[1482535 rows x 10 columns]"
            ]
          },
          "metadata": {},
          "execution_count": 42
        }
      ]
    },
    {
      "cell_type": "code",
      "metadata": {
        "id": "UE3KjXlNDtuf",
        "colab": {
          "base_uri": "https://localhost:8080/",
          "height": 293
        },
        "outputId": "2b3fcc8e-7d59-4bb6-ac91-e1e592da9e61"
      },
      "source": [
        "train.seq_item_description.apply(lambda x : len(x)).hist()"
      ],
      "execution_count": 43,
      "outputs": [
        {
          "output_type": "execute_result",
          "data": {
            "text/plain": [
              "<matplotlib.axes._subplots.AxesSubplot at 0x7ff6e3ac70d0>"
            ]
          },
          "metadata": {},
          "execution_count": 43
        },
        {
          "output_type": "display_data",
          "data": {
            "image/png": "[encoded data removed]",
            "text/plain": [
              "<Figure size 432x288 with 1 Axes>"
            ]
          },
          "metadata": {
            "needs_background": "light"
          }
        }
      ]
    },
    {
      "cell_type": "code",
      "metadata": {
        "id": "J_KrRVawD75G"
      },
      "source": [
        "# embedding 최대값\n",
        "# histograms에 기반하여 다음 길이 결정\n",
        "max_name_seq = 10\n",
        "max_item_desc_seq = 75\n",
        "max_text = np.max([np.max(train.seq_name.max()), np.max(test.seq_name.max()), \n",
        "                   np.max(train.seq_item_description.max()), np.max(test.seq_item_description.max())])+2  # InvalidArgumentError: indices[66,9] = 321997 is not in [0, 321997) 에러때문에 +2, +1 작업\n",
        "\n",
        "max_category = np.max([train.category_name.max(), test.category_name.max()])+1\n",
        "max_brand = np.max([train.brand_name.max(), test.brand_name.max()])+1\n",
        "max_condition = np.max([train.item_condition_id.max(), test.item_condition_id.max()])+1                  "
      ],
      "execution_count": 44,
      "outputs": []
    },
    {
      "cell_type": "code",
      "metadata": {
        "id": "VlbnWYw3D7wf",
        "colab": {
          "base_uri": "https://localhost:8080/",
          "height": 316
        },
        "outputId": "33bd5580-d4f8-411c-b68d-b83242a60ed2"
      },
      "source": [
        "train[\"target\"] = np.log(train.price+1)\n",
        "target_scaler = MinMaxScaler(feature_range=(-1, 1))\n",
        "train[\"target\"] = target_scaler.fit_transform(np.array(train.target).reshape(-1, 1))\n",
        "pd.DataFrame(train.target).hist()"
      ],
      "execution_count": 53,
      "outputs": [
        {
          "output_type": "execute_result",
          "data": {
            "text/plain": [
              "array([[<matplotlib.axes._subplots.AxesSubplot object at 0x7ff76cf7da10>]],\n",
              "      dtype=object)"
            ]
          },
          "metadata": {},
          "execution_count": 53
        },
        {
          "output_type": "display_data",
          "data": {
            "image/png": "[encoded data removed]",
            "text/plain": [
              "<Figure size 432x288 with 1 Axes>"
            ]
          },
          "metadata": {
            "needs_background": "light"
          }
        }
      ]
    },
    {
      "cell_type": "code",
      "metadata": {
        "id": "w0Ne0VC_FYIZ",
        "colab": {
          "base_uri": "https://localhost:8080/"
        },
        "outputId": "fc6d89be-c41e-49d6-fb0d-8b4bffe9e6fc"
      },
      "source": [
        "dtrain, dvalid = train_test_split(train, random_state=123, train_size=0.99)\n",
        "print(dtrain.shape)\n",
        "print(dvalid.shape)"
      ],
      "execution_count": 55,
      "outputs": [
        {
          "output_type": "stream",
          "name": "stdout",
          "text": [
            "(1467709, 11)\n",
            "(14826, 11)\n"
          ]
        }
      ]
    },
    {
      "cell_type": "code",
      "metadata": {
        "id": "TKxqMi6EFYAm"
      },
      "source": [
        "# 케라스 데이터 정의\n",
        "\n",
        "from keras.preprocessing.sequence import pad_sequences\n",
        "\n",
        "def get_keras_data(dataset):\n",
        "  X={\n",
        "      'name' : pad_sequences(dataset.seq_name, maxlen=max_name_seq), # 패딩작업\n",
        "     'item_desc':pad_sequences(dataset.seq_item_description, maxlen=max_item_desc_seq),\n",
        "     'brand_name':np.array(dataset.brand_name),\n",
        "     'category_name':np.array(dataset.category_name),\n",
        "     'item_condition':np.array(dataset.item_condition_id),\n",
        "     'num_vars':np.array(dataset[['shipping']])\n",
        "  }\n",
        "  return X\n",
        "\n",
        "X_train = get_keras_data(dtrain)\n",
        "X_valid = get_keras_data(dvalid)\n",
        "X_test = get_keras_data(test)"
      ],
      "execution_count": 56,
      "outputs": []
    },
    {
      "cell_type": "code",
      "metadata": {
        "id": "Zcedfho9FWCl",
        "colab": {
          "base_uri": "https://localhost:8080/"
        },
        "outputId": "88acb7f1-9e9c-4b4e-a58e-44610def7abb"
      },
      "source": [
        "# 모델링\n",
        "from keras.layers import Input, Dropout, Dense, BatchNormalization, Activation, concatenate, GRU, Embedding, Flatten, BatchNormalization\n",
        "from keras.models import Model\n",
        "from keras.callbacks import ModelCheckpoint, Callback, EarlyStopping\n",
        "from keras import backend as K\n",
        "\n",
        "\n",
        "def get_callbacks(filepath, patience=2):\n",
        "  es = EarlyStopping('val_loss', patience=patience, mode='min') # early stopping\n",
        "  msave = ModelCheckpoint(filepath, save_best_only=True)\n",
        "  return [es, msave]\n",
        "\n",
        "def rmsle_cust(y_true, y_pred):\n",
        "    first_log = K.log(K.clip(y_pred, K.epsilon(), None) + 1.)\n",
        "    second_log = K.log(K.clip(y_true, K.epsilon(), None) + 1.)\n",
        "    return K.sqrt(K.mean(K.square(first_log - second_log), axis=-1))\n",
        "\n",
        "\n",
        "def get_model():\n",
        "  # 파라메터\n",
        "  dr_r = 0.1\n",
        "\n",
        "  # input\n",
        "  name=Input(shape=[X_train[\"name\"].shape[1]], name='name')\n",
        "  item_desc = Input(shape=[X_train[\"item_desc\"].shape[1]], name=\"item_desc\")\n",
        "  brand_name = Input(shape=[1], name=\"brand_name\")\n",
        "  category_name = Input(shape=[1], name=\"category_name\")\n",
        "  item_condition = Input(shape=[1], name=\"item_condition\")\n",
        "  num_vars = Input(shape=[X_train[\"num_vars\"].shape[1]], name=\"num_vars\")\n",
        "\n",
        "  # 임베딩 레이어 임베딩 벡터를 고정시키기 위해서\n",
        "  emb_name = Embedding(max_text, 50)(name) #name 데이터를 max_text, 50사이즈로 변환\n",
        "  emb_item_desc = Embedding(max_text, 50)(item_desc)\n",
        "  emb_brand_name = Embedding(max_brand, 10)(brand_name)\n",
        "  emb_category_name = Embedding(max_category, 10)(category_name)\n",
        "  emb_item_condition = Embedding(max_condition, 5)(item_condition)\n",
        "\n",
        "  # rnn\n",
        "  rnn_layer1 = GRU(16) (emb_item_desc) # item을 GRU에 투입\n",
        "  rnn_layer2 = GRU(8) (emb_name) # name을 GRU에 투입\n",
        "\n",
        "  # main layer\n",
        "  main_l = concatenate([\n",
        "                        Flatten()(emb_brand_name),\n",
        "                        Flatten()(emb_category_name),\n",
        "                        Flatten()(emb_item_condition),\n",
        "                        rnn_layer1,\n",
        "                        rnn_layer2,\n",
        "                        num_vars\n",
        "  ])\n",
        "\n",
        "  main_l = Dropout(dr_r)(Dense(128)(main_l))\n",
        "  main_l = Dropout(dr_r)(Dense(64)(main_l))\n",
        "\n",
        "  # output\n",
        "  output = Dense(1, activation='linear')(main_l)\n",
        "\n",
        "  #model\n",
        "  model = Model([name, item_desc, brand_name\n",
        "                  , category_name, item_condition, num_vars], output)\n",
        "  model.compile(loss=\"mse\", optimizer=\"adam\", metrics=[\"mae\", rmsle_cust])\n",
        "  \n",
        "  return model\n",
        "\n",
        "    \n",
        "model = get_model()\n",
        "model.summary()"
      ],
      "execution_count": 61,
      "outputs": [
        {
          "output_type": "stream",
          "name": "stdout",
          "text": [
            "Model: \"model\"\n",
            "__________________________________________________________________________________________________\n",
            " Layer (type)                   Output Shape         Param #     Connected to                     \n",
            "==================================================================================================\n",
            " brand_name (InputLayer)        [(None, 1)]          0           []                               \n",
            "                                                                                                  \n",
            " category_name (InputLayer)     [(None, 1)]          0           []                               \n",
            "                                                                                                  \n",
            " item_condition (InputLayer)    [(None, 1)]          0           []                               \n",
            "                                                                                                  \n",
            " item_desc (InputLayer)         [(None, 75)]         0           []                               \n",
            "                                                                                                  \n",
            " name (InputLayer)              [(None, 10)]         0           []                               \n",
            "                                                                                                  \n",
            " embedding_4 (Embedding)        (None, 1, 10)        52900       ['brand_name[0][0]']             \n",
            "                                                                                                  \n",
            " embedding_5 (Embedding)        (None, 1, 10)        13110       ['category_name[0][0]']          \n",
            "                                                                                                  \n",
            " embedding_6 (Embedding)        (None, 1, 5)         30          ['item_condition[0][0]']         \n",
            "                                                                                                  \n",
            " embedding_3 (Embedding)        (None, 75, 50)       12954400    ['item_desc[0][0]']              \n",
            "                                                                                                  \n",
            " embedding_2 (Embedding)        (None, 10, 50)       12954400    ['name[0][0]']                   \n",
            "                                                                                                  \n",
            " flatten (Flatten)              (None, 10)           0           ['embedding_4[0][0]']            \n",
            "                                                                                                  \n",
            " flatten_1 (Flatten)            (None, 10)           0           ['embedding_5[0][0]']            \n",
            "                                                                                                  \n",
            " flatten_2 (Flatten)            (None, 5)            0           ['embedding_6[0][0]']            \n",
            "                                                                                                  \n",
            " gru (GRU)                      (None, 16)           3264        ['embedding_3[0][0]']            \n",
            "                                                                                                  \n",
            " gru_1 (GRU)                    (None, 8)            1440        ['embedding_2[0][0]']            \n",
            "                                                                                                  \n",
            " num_vars (InputLayer)          [(None, 1)]          0           []                               \n",
            "                                                                                                  \n",
            " concatenate (Concatenate)      (None, 50)           0           ['flatten[0][0]',                \n",
            "                                                                  'flatten_1[0][0]',              \n",
            "                                                                  'flatten_2[0][0]',              \n",
            "                                                                  'gru[0][0]',                    \n",
            "                                                                  'gru_1[0][0]',                  \n",
            "                                                                  'num_vars[0][0]']               \n",
            "                                                                                                  \n",
            " dense (Dense)                  (None, 128)          6528        ['concatenate[0][0]']            \n",
            "                                                                                                  \n",
            " dropout (Dropout)              (None, 128)          0           ['dense[0][0]']                  \n",
            "                                                                                                  \n",
            " dense_1 (Dense)                (None, 64)           8256        ['dropout[0][0]']                \n",
            "                                                                                                  \n",
            " dropout_1 (Dropout)            (None, 64)           0           ['dense_1[0][0]']                \n",
            "                                                                                                  \n",
            " dense_2 (Dense)                (None, 1)            65          ['dropout_1[0][0]']              \n",
            "                                                                                                  \n",
            "==================================================================================================\n",
            "Total params: 25,994,393\n",
            "Trainable params: 25,994,393\n",
            "Non-trainable params: 0\n",
            "__________________________________________________________________________________________________\n"
          ]
        }
      ]
    },
    {
      "cell_type": "code",
      "metadata": {
        "id": "3QNueB_PFV9-",
        "colab": {
          "base_uri": "https://localhost:8080/"
        },
        "outputId": "f05c9f3d-9720-41ee-eefc-645b2356a249"
      },
      "source": [
        "BATCH_SIZE = 20000\n",
        "epochs = 5\n",
        "\n",
        "model = get_model()\n",
        "model.fit(X_train, dtrain.target, epochs=epochs, batch_size=BATCH_SIZE\n",
        "          , validation_data=(X_valid, dvalid.target)\n",
        "          , verbose=1)"
      ],
      "execution_count": 62,
      "outputs": [
        {
          "output_type": "stream",
          "name": "stdout",
          "text": [
            "Epoch 1/5\n",
            "74/74 [==============================] - 28s 241ms/step - loss: 0.0273 - mae: 0.1258 - rmsle_cust: 0.0153 - val_loss: 0.0180 - val_mae: 0.1018 - val_rmsle_cust: 0.0135\n",
            "Epoch 2/5\n",
            "74/74 [==============================] - 17s 226ms/step - loss: 0.0177 - mae: 0.1006 - rmsle_cust: 0.0132 - val_loss: 0.0162 - val_mae: 0.0963 - val_rmsle_cust: 0.0127\n",
            "Epoch 3/5\n",
            "74/74 [==============================] - 17s 227ms/step - loss: 0.0158 - mae: 0.0949 - rmsle_cust: 0.0125 - val_loss: 0.0157 - val_mae: 0.0957 - val_rmsle_cust: 0.0125\n",
            "Epoch 4/5\n",
            "74/74 [==============================] - 17s 227ms/step - loss: 0.0148 - mae: 0.0918 - rmsle_cust: 0.0122 - val_loss: 0.0153 - val_mae: 0.0936 - val_rmsle_cust: 0.0123\n",
            "Epoch 5/5\n",
            "74/74 [==============================] - 17s 226ms/step - loss: 0.0142 - mae: 0.0898 - rmsle_cust: 0.0119 - val_loss: 0.0153 - val_mae: 0.0942 - val_rmsle_cust: 0.0123\n"
          ]
        },
        {
          "output_type": "execute_result",
          "data": {
            "text/plain": [
              "<keras.callbacks.History at 0x7ff76d10fc10>"
            ]
          },
          "metadata": {},
          "execution_count": 62
        }
      ]
    },
    {
      "cell_type": "code",
      "metadata": {
        "id": "pGTcxtI8KPiR",
        "colab": {
          "base_uri": "https://localhost:8080/"
        },
        "outputId": "6e673faf-a211-45b7-d3c3-e63eb04a0c76"
      },
      "source": [
        "# 모델 평가\n",
        "val_preds = model.predict(X_valid)\n",
        "val_preds = target_scaler.inverse_transform(val_preds)\n",
        "val_preds = np.exp(val_preds)+1\n",
        "\n",
        "# 절대값, log error\n",
        "y_true = np.array(dvalid.price.values)\n",
        "y_pred = val_preds[:,0]\n",
        "v_rmsle = rmsle(y_true, y_pred)\n",
        "print(\" RMSLE error on dev test: \"+str(v_rmsle))"
      ],
      "execution_count": 63,
      "outputs": [
        {
          "output_type": "stream",
          "name": "stdout",
          "text": [
            " RMSLE error on dev test: 0.4926026359477031\n"
          ]
        }
      ]
    },
    {
      "cell_type": "code",
      "metadata": {
        "id": "a4RPnQp0KPbc",
        "colab": {
          "base_uri": "https://localhost:8080/"
        },
        "outputId": "bf452de3-b422-4730-c067-22e6aa374935"
      },
      "source": [
        "#예측\n",
        "preds = model.predict(X_test, batch_size=BATCH_SIZE)\n",
        "preds = target_scaler.inverse_transform(preds)\n",
        "preds = np.exp(preds)-1\n",
        "\n",
        "submission = test[[\"test_id\"]]\n",
        "submission[\"price\"] = preds"
      ],
      "execution_count": 64,
      "outputs": [
        {
          "output_type": "stream",
          "name": "stderr",
          "text": [
            "/usr/local/lib/python3.7/dist-packages/ipykernel_launcher.py:7: SettingWithCopyWarning: \n",
            "A value is trying to be set on a copy of a slice from a DataFrame.\n",
            "Try using .loc[row_indexer,col_indexer] = value instead\n",
            "\n",
            "See the caveats in the documentation: https://pandas.pydata.org/pandas-docs/stable/user_guide/indexing.html#returning-a-view-versus-a-copy\n",
            "  import sys\n"
          ]
        }
      ]
    },
    {
      "cell_type": "code",
      "metadata": {
        "id": "3dWGFPWxKefn"
      },
      "source": [
        "submission.to_csv(\"./myNNsubmission.csv\", index=False)\n",
        "submission.price.hist()"
      ],
      "execution_count": null,
      "outputs": []
    },
    {
      "cell_type": "markdown",
      "metadata": {
        "id": "D4gtMPF6KgUw"
      },
      "source": [
        "## 개선점\n",
        "- embedding 요소 증가\n",
        "- 배치 사이즈 줄이기\n",
        "- batch  normalization 투입\n",
        "- LSTM, 양방향 RNN, RNN 쌓기\n",
        "- 더 깊은 dense layer"
      ]
    },
    {
      "cell_type": "markdown",
      "metadata": {
        "id": "MTTTTC-iLzsp"
      },
      "source": [
        "# 배워갔으면 하는 점\n",
        "카테고리 변수 같은 경우 embedding layer로 변경하면 하나의 숫자 변수를 넣는 것이다. 그런데 왜 사용하냐면, 단어를 고정 길이 벡터로 변환하여 학습공간 차원을 고정시켜 학습 중 비슷한 의미를 가진 단어를 더 가까운 벡터값을 얻도록 하여, 비슷한 단어는 가깝게, 먼 단어는 멀리 떨어지는 효과를 얻음\n",
        "\n",
        "<br>\n",
        "Tokenizer 경우 texts_to_sequences를 통해 텍스트를 시퀀스로 \n",
        "<br>\n",
        "fit_on_texts을 통해 텍스트를 리스트로 변환하는 기능을 가진다는 점"
      ]
    }
  ]
}